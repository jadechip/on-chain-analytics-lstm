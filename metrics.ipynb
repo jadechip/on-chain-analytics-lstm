{
  "nbformat": 4,
  "nbformat_minor": 0,
  "metadata": {
    "colab": {
      "name": "metrics",
      "provenance": [],
      "collapsed_sections": [],
      "include_colab_link": true
    },
    "kernelspec": {
      "name": "python3",
      "display_name": "Python 3"
    },
    "accelerator": "GPU"
  },
  "cells": [
    {
      "cell_type": "markdown",
      "metadata": {
        "id": "view-in-github",
        "colab_type": "text"
      },
      "source": [
        "<a href=\"https://colab.research.google.com/github/jadechip/on-chain-analytics-lstm/blob/master/metrics.ipynb\" target=\"_parent\"><img src=\"https://colab.research.google.com/assets/colab-badge.svg\" alt=\"Open In Colab\"/></a>"
      ]
    },
    {
      "cell_type": "code",
      "metadata": {
        "id": "0HgLDnmnGbg3",
        "colab_type": "code",
        "colab": {}
      },
      "source": [
        "import io\n",
        "import json\n",
        "import requests\n",
        "import functools\n",
        "import numpy as np\n",
        "import pandas as pd\n",
        "from tqdm import tqdm\n",
        "\n",
        "import matplotlib.pyplot as plt\n",
        "import matplotlib.ticker as ticker\n",
        "from sklearn.model_selection import train_test_split\n",
        "\n",
        "pd.options.mode.chained_assignment = None"
      ],
      "execution_count": 0,
      "outputs": []
    },
    {
      "cell_type": "markdown",
      "metadata": {
        "id": "rFxN7dkbJsrG",
        "colab_type": "text"
      },
      "source": [
        "## Bitcoin price"
      ]
    },
    {
      "cell_type": "code",
      "metadata": {
        "id": "foTVepq3Vm0g",
        "colab_type": "code",
        "colab": {}
      },
      "source": [
        "def make_request(url, *args):\n",
        "  print(url(*args))\n",
        "  return requests.get(url(*args))"
      ],
      "execution_count": 0,
      "outputs": []
    },
    {
      "cell_type": "code",
      "metadata": {
        "id": "3l11fDubusSQ",
        "colab_type": "code",
        "colab": {}
      },
      "source": [
        "start      = 20100718\n",
        "end        = 20180429\n",
        "params     = \"PriceUSD\"\n",
        "url        = lambda params: f\"https://community-api.coinmetrics.io/v2/assets/btc/metricdata?metrics={params}&start={start}&end={end}\""
      ],
      "execution_count": 0,
      "outputs": []
    },
    {
      "cell_type": "code",
      "metadata": {
        "id": "l8fm4VPiuE-7",
        "colab_type": "code",
        "outputId": "2e306434-6383-418c-83fc-bb585a7c73a9",
        "colab": {
          "base_uri": "https://localhost:8080/",
          "height": 34
        }
      },
      "source": [
        "response = make_request(url, \"PriceUSD\")"
      ],
      "execution_count": 4,
      "outputs": [
        {
          "output_type": "stream",
          "text": [
            "https://community-api.coinmetrics.io/v2/assets/btc/metricdata?metrics=PriceUSD&start=20100718&end=20180429\n"
          ],
          "name": "stdout"
        }
      ]
    },
    {
      "cell_type": "code",
      "metadata": {
        "id": "yWRIuudJFsIz",
        "colab_type": "code",
        "colab": {}
      },
      "source": [
        "json = response.json()"
      ],
      "execution_count": 0,
      "outputs": []
    },
    {
      "cell_type": "code",
      "metadata": {
        "id": "eWT7fFpn0yVw",
        "colab_type": "code",
        "colab": {}
      },
      "source": [
        "price_df = pd.DataFrame(json[\"metricData\"][\"series\"])\n",
        "price_df[\"values\"] = price_df[\"values\"].apply(lambda x: x[0])\n",
        "price_df[\"values\"] = price_df[\"values\"].astype(float)"
      ],
      "execution_count": 0,
      "outputs": []
    },
    {
      "cell_type": "code",
      "metadata": {
        "id": "te6Gl31rr9eU",
        "colab_type": "code",
        "colab": {}
      },
      "source": [
        "price_df['time'] = pd.to_datetime(price_df['time'])\n",
        "price_df['time'] = price_df['time'].dt.strftime('%d-%m-%Y')"
      ],
      "execution_count": 0,
      "outputs": []
    },
    {
      "cell_type": "code",
      "metadata": {
        "id": "EzquzcjhYZeB",
        "colab_type": "code",
        "outputId": "cc9a3b70-dacb-4e66-9b35-4e42925196a9",
        "colab": {
          "base_uri": "https://localhost:8080/",
          "height": 204
        }
      },
      "source": [
        "price_df.head()"
      ],
      "execution_count": 8,
      "outputs": [
        {
          "output_type": "execute_result",
          "data": {
            "text/html": [
              "<div>\n",
              "<style scoped>\n",
              "    .dataframe tbody tr th:only-of-type {\n",
              "        vertical-align: middle;\n",
              "    }\n",
              "\n",
              "    .dataframe tbody tr th {\n",
              "        vertical-align: top;\n",
              "    }\n",
              "\n",
              "    .dataframe thead th {\n",
              "        text-align: right;\n",
              "    }\n",
              "</style>\n",
              "<table border=\"1\" class=\"dataframe\">\n",
              "  <thead>\n",
              "    <tr style=\"text-align: right;\">\n",
              "      <th></th>\n",
              "      <th>time</th>\n",
              "      <th>values</th>\n",
              "    </tr>\n",
              "  </thead>\n",
              "  <tbody>\n",
              "    <tr>\n",
              "      <th>0</th>\n",
              "      <td>18-07-2010</td>\n",
              "      <td>0.085840</td>\n",
              "    </tr>\n",
              "    <tr>\n",
              "      <th>1</th>\n",
              "      <td>19-07-2010</td>\n",
              "      <td>0.080800</td>\n",
              "    </tr>\n",
              "    <tr>\n",
              "      <th>2</th>\n",
              "      <td>20-07-2010</td>\n",
              "      <td>0.074736</td>\n",
              "    </tr>\n",
              "    <tr>\n",
              "      <th>3</th>\n",
              "      <td>21-07-2010</td>\n",
              "      <td>0.079193</td>\n",
              "    </tr>\n",
              "    <tr>\n",
              "      <th>4</th>\n",
              "      <td>22-07-2010</td>\n",
              "      <td>0.058470</td>\n",
              "    </tr>\n",
              "  </tbody>\n",
              "</table>\n",
              "</div>"
            ],
            "text/plain": [
              "         time    values\n",
              "0  18-07-2010  0.085840\n",
              "1  19-07-2010  0.080800\n",
              "2  20-07-2010  0.074736\n",
              "3  21-07-2010  0.079193\n",
              "4  22-07-2010  0.058470"
            ]
          },
          "metadata": {
            "tags": []
          },
          "execution_count": 8
        }
      ]
    },
    {
      "cell_type": "markdown",
      "metadata": {
        "id": "c9FR38EHJxj-",
        "colab_type": "text"
      },
      "source": [
        "## Metrics"
      ]
    },
    {
      "cell_type": "code",
      "metadata": {
        "id": "u4TXYlYsJ6PH",
        "colab_type": "code",
        "colab": {}
      },
      "source": [
        "start      = 1279324800\n",
        "end        = 1524960000\n",
        "metrics_df = pd.DataFrame()\n",
        "api_key    = \"5a0cf8d7-d14a-44f4-b063-a76807cd5340\"\n",
        "base       = \"https://api.glassnode.com/v1\"\n",
        "url        = lambda api_key: f\"{endpoint}?api_key={api_key}&a=BTC&s={start}&u={end}\"\n",
        "endpoints  = {\n",
        "  \"dormancy\" : f\"{base}/metrics/indicators/average_dormancy\",\n",
        "  \"velocity\" : f\"{base}/metrics/indicators/velocity\",\n",
        "  \"nvts\"     : f\"{base}/metrics/indicators/nvts\",\n",
        "  \"sopr\"     : f\"{base}/metrics/indicators/sopr\",\n",
        "  \"mvrv\"     : f\"{base}/metrics/market/mvrv\" \n",
        "}"
      ],
      "execution_count": 0,
      "outputs": []
    },
    {
      "cell_type": "code",
      "metadata": {
        "id": "dGmDCxDMKTRd",
        "colab_type": "code",
        "outputId": "9e110b85-e602-4c96-d571-4a67f5291df9",
        "colab": {
          "base_uri": "https://localhost:8080/",
          "height": 102
        }
      },
      "source": [
        "for name, endpoint in endpoints.items():\n",
        "  response = make_request(url, api_key)\n",
        "  tmp = pd.read_json(response.content, convert_dates=[\"t\"], date_unit=\"s\")\n",
        "  tmp.columns = [\"date\", name]\n",
        "  diff = tmp.columns.difference(metrics_df.columns)\n",
        "  metrics_df = pd.concat([metrics_df, tmp[diff]], axis=1, sort=False)"
      ],
      "execution_count": 10,
      "outputs": [
        {
          "output_type": "stream",
          "text": [
            "https://api.glassnode.com/v1/metrics/indicators/average_dormancy?api_key=5a0cf8d7-d14a-44f4-b063-a76807cd5340&a=BTC&s=1279324800&u=1524960000\n",
            "https://api.glassnode.com/v1/metrics/indicators/velocity?api_key=5a0cf8d7-d14a-44f4-b063-a76807cd5340&a=BTC&s=1279324800&u=1524960000\n",
            "https://api.glassnode.com/v1/metrics/indicators/nvts?api_key=5a0cf8d7-d14a-44f4-b063-a76807cd5340&a=BTC&s=1279324800&u=1524960000\n",
            "https://api.glassnode.com/v1/metrics/indicators/sopr?api_key=5a0cf8d7-d14a-44f4-b063-a76807cd5340&a=BTC&s=1279324800&u=1524960000\n",
            "https://api.glassnode.com/v1/metrics/market/mvrv?api_key=5a0cf8d7-d14a-44f4-b063-a76807cd5340&a=BTC&s=1279324800&u=1524960000\n"
          ],
          "name": "stdout"
        }
      ]
    },
    {
      "cell_type": "markdown",
      "metadata": {
        "id": "Za9CQ2Iyci_x",
        "colab_type": "text"
      },
      "source": [
        "### Join"
      ]
    },
    {
      "cell_type": "code",
      "metadata": {
        "id": "92gL2gAUd7nj",
        "colab_type": "code",
        "colab": {}
      },
      "source": [
        "metrics_df[\"target_price\"] = price_df[\"values\"]"
      ],
      "execution_count": 0,
      "outputs": []
    },
    {
      "cell_type": "code",
      "metadata": {
        "id": "iPmsY5WuZVak",
        "colab_type": "code",
        "colab": {}
      },
      "source": [
        "metrics_df = metrics_df.set_index(\"date\", drop=True)"
      ],
      "execution_count": 0,
      "outputs": []
    },
    {
      "cell_type": "code",
      "metadata": {
        "id": "sB2MwZG1Zd-b",
        "colab_type": "code",
        "outputId": "16af69bb-027b-479e-fe76-5da70527fadd",
        "colab": {
          "base_uri": "https://localhost:8080/",
          "height": 235
        }
      },
      "source": [
        "metrics_df.head()"
      ],
      "execution_count": 13,
      "outputs": [
        {
          "output_type": "execute_result",
          "data": {
            "text/html": [
              "<div>\n",
              "<style scoped>\n",
              "    .dataframe tbody tr th:only-of-type {\n",
              "        vertical-align: middle;\n",
              "    }\n",
              "\n",
              "    .dataframe tbody tr th {\n",
              "        vertical-align: top;\n",
              "    }\n",
              "\n",
              "    .dataframe thead th {\n",
              "        text-align: right;\n",
              "    }\n",
              "</style>\n",
              "<table border=\"1\" class=\"dataframe\">\n",
              "  <thead>\n",
              "    <tr style=\"text-align: right;\">\n",
              "      <th></th>\n",
              "      <th>dormancy</th>\n",
              "      <th>velocity</th>\n",
              "      <th>nvts</th>\n",
              "      <th>sopr</th>\n",
              "      <th>mvrv</th>\n",
              "      <th>target_price</th>\n",
              "    </tr>\n",
              "    <tr>\n",
              "      <th>date</th>\n",
              "      <th></th>\n",
              "      <th></th>\n",
              "      <th></th>\n",
              "      <th></th>\n",
              "      <th></th>\n",
              "      <th></th>\n",
              "    </tr>\n",
              "  </thead>\n",
              "  <tbody>\n",
              "    <tr>\n",
              "      <th>2010-07-17</th>\n",
              "      <td>17.557391</td>\n",
              "      <td>0.009522</td>\n",
              "      <td>50.456801</td>\n",
              "      <td>1.000000</td>\n",
              "      <td>1.000000</td>\n",
              "      <td>0.085840</td>\n",
              "    </tr>\n",
              "    <tr>\n",
              "      <th>2010-07-18</th>\n",
              "      <td>37.898148</td>\n",
              "      <td>0.012926</td>\n",
              "      <td>65.719591</td>\n",
              "      <td>1.174760</td>\n",
              "      <td>1.299792</td>\n",
              "      <td>0.080800</td>\n",
              "    </tr>\n",
              "    <tr>\n",
              "      <th>2010-07-19</th>\n",
              "      <td>8.009980</td>\n",
              "      <td>0.016157</td>\n",
              "      <td>91.505617</td>\n",
              "      <td>1.318536</td>\n",
              "      <td>1.813274</td>\n",
              "      <td>0.074736</td>\n",
              "    </tr>\n",
              "    <tr>\n",
              "      <th>2010-07-20</th>\n",
              "      <td>2.325436</td>\n",
              "      <td>0.011241</td>\n",
              "      <td>79.848213</td>\n",
              "      <td>1.090517</td>\n",
              "      <td>1.584801</td>\n",
              "      <td>0.079193</td>\n",
              "    </tr>\n",
              "    <tr>\n",
              "      <th>2010-07-21</th>\n",
              "      <td>23.594423</td>\n",
              "      <td>0.010933</td>\n",
              "      <td>70.508828</td>\n",
              "      <td>1.065532</td>\n",
              "      <td>1.398245</td>\n",
              "      <td>0.058470</td>\n",
              "    </tr>\n",
              "  </tbody>\n",
              "</table>\n",
              "</div>"
            ],
            "text/plain": [
              "             dormancy  velocity       nvts      sopr      mvrv  target_price\n",
              "date                                                                        \n",
              "2010-07-17  17.557391  0.009522  50.456801  1.000000  1.000000      0.085840\n",
              "2010-07-18  37.898148  0.012926  65.719591  1.174760  1.299792      0.080800\n",
              "2010-07-19   8.009980  0.016157  91.505617  1.318536  1.813274      0.074736\n",
              "2010-07-20   2.325436  0.011241  79.848213  1.090517  1.584801      0.079193\n",
              "2010-07-21  23.594423  0.010933  70.508828  1.065532  1.398245      0.058470"
            ]
          },
          "metadata": {
            "tags": []
          },
          "execution_count": 13
        }
      ]
    },
    {
      "cell_type": "markdown",
      "metadata": {
        "id": "dmG5s8F_eU8E",
        "colab_type": "text"
      },
      "source": [
        "### Test-Training split"
      ]
    },
    {
      "cell_type": "code",
      "metadata": {
        "id": "sz8rUZ8DXGab",
        "colab_type": "code",
        "colab": {}
      },
      "source": [
        "normalize = lambda df: (df - df.mean()) / (df.max() - df.min())"
      ],
      "execution_count": 0,
      "outputs": []
    },
    {
      "cell_type": "code",
      "metadata": {
        "id": "9up_58LseZkl",
        "colab_type": "code",
        "outputId": "23b112d1-c74b-43c8-b76f-54e3e2bee4db",
        "colab": {
          "base_uri": "https://localhost:8080/",
          "height": 34
        }
      },
      "source": [
        "training_data, validation_data = train_test_split(metrics_df, test_size=0.2, shuffle=False)\n",
        "validation_data, testing_data = train_test_split(validation_data, test_size=0.5, shuffle=False)\n",
        "\n",
        "print(f\"Training data size: {training_data.shape}\",\n",
        "      f\"Validation data size: {validation_data.shape}\",\n",
        "      f\"Testing data size: {testing_data.shape}\")\n",
        "\n",
        "data = {\n",
        "  \"training\" : training_data,\n",
        "  \"validation\" : validation_data,\n",
        "  \"testing\" : testing_data,\n",
        "}\n",
        "training_data = normalize(training_data)\n",
        "validation_data = normalize(validation_data)\n",
        "testing_data = normalize(testing_data)"
      ],
      "execution_count": 15,
      "outputs": [
        {
          "output_type": "stream",
          "text": [
            "Training data size: (2274, 6) Validation data size: (284, 6) Testing data size: (285, 6)\n"
          ],
          "name": "stdout"
        }
      ]
    },
    {
      "cell_type": "markdown",
      "metadata": {
        "id": "3D8oyfoBaGSu",
        "colab_type": "text"
      },
      "source": [
        "### Normalize"
      ]
    },
    {
      "cell_type": "code",
      "metadata": {
        "id": "UkOSuPh9XY49",
        "colab_type": "code",
        "colab": {}
      },
      "source": [
        "data[\"training\"] = normalize(data[\"training\"])\n",
        "data[\"validation\"] = normalize(data[\"validation\"])\n",
        "data[\"testing\"] = normalize(data[\"testing\"])"
      ],
      "execution_count": 0,
      "outputs": []
    },
    {
      "cell_type": "code",
      "metadata": {
        "id": "7mzhKYjIaKJa",
        "colab_type": "code",
        "outputId": "2e00c79c-0d16-4ad0-c4ee-7775fb00cfa8",
        "colab": {
          "base_uri": "https://localhost:8080/",
          "height": 235
        }
      },
      "source": [
        "data[\"training\"].head()"
      ],
      "execution_count": 18,
      "outputs": [
        {
          "output_type": "execute_result",
          "data": {
            "text/html": [
              "<div>\n",
              "<style scoped>\n",
              "    .dataframe tbody tr th:only-of-type {\n",
              "        vertical-align: middle;\n",
              "    }\n",
              "\n",
              "    .dataframe tbody tr th {\n",
              "        vertical-align: top;\n",
              "    }\n",
              "\n",
              "    .dataframe thead th {\n",
              "        text-align: right;\n",
              "    }\n",
              "</style>\n",
              "<table border=\"1\" class=\"dataframe\">\n",
              "  <thead>\n",
              "    <tr style=\"text-align: right;\">\n",
              "      <th></th>\n",
              "      <th>dormancy</th>\n",
              "      <th>velocity</th>\n",
              "      <th>nvts</th>\n",
              "      <th>sopr</th>\n",
              "      <th>mvrv</th>\n",
              "      <th>target_price</th>\n",
              "    </tr>\n",
              "    <tr>\n",
              "      <th>date</th>\n",
              "      <th></th>\n",
              "      <th></th>\n",
              "      <th></th>\n",
              "      <th></th>\n",
              "      <th></th>\n",
              "      <th></th>\n",
              "    </tr>\n",
              "  </thead>\n",
              "  <tbody>\n",
              "    <tr>\n",
              "      <th>2010-07-17</th>\n",
              "      <td>0.056365</td>\n",
              "      <td>-0.024932</td>\n",
              "      <td>0.175394</td>\n",
              "      <td>-0.011233</td>\n",
              "      <td>-0.112489</td>\n",
              "      <td>-0.197668</td>\n",
              "    </tr>\n",
              "    <tr>\n",
              "      <th>2010-07-18</th>\n",
              "      <td>0.154275</td>\n",
              "      <td>-0.024165</td>\n",
              "      <td>0.264575</td>\n",
              "      <td>0.128719</td>\n",
              "      <td>-0.068433</td>\n",
              "      <td>-0.197673</td>\n",
              "    </tr>\n",
              "    <tr>\n",
              "      <th>2010-07-19</th>\n",
              "      <td>0.010409</td>\n",
              "      <td>-0.023438</td>\n",
              "      <td>0.415242</td>\n",
              "      <td>0.243857</td>\n",
              "      <td>0.007027</td>\n",
              "      <td>-0.197678</td>\n",
              "    </tr>\n",
              "    <tr>\n",
              "      <th>2010-07-20</th>\n",
              "      <td>-0.016954</td>\n",
              "      <td>-0.024545</td>\n",
              "      <td>0.347128</td>\n",
              "      <td>0.061255</td>\n",
              "      <td>-0.026549</td>\n",
              "      <td>-0.197674</td>\n",
              "    </tr>\n",
              "    <tr>\n",
              "      <th>2010-07-21</th>\n",
              "      <td>0.085424</td>\n",
              "      <td>-0.024614</td>\n",
              "      <td>0.292558</td>\n",
              "      <td>0.041247</td>\n",
              "      <td>-0.053964</td>\n",
              "      <td>-0.197692</td>\n",
              "    </tr>\n",
              "  </tbody>\n",
              "</table>\n",
              "</div>"
            ],
            "text/plain": [
              "            dormancy  velocity      nvts      sopr      mvrv  target_price\n",
              "date                                                                      \n",
              "2010-07-17  0.056365 -0.024932  0.175394 -0.011233 -0.112489     -0.197668\n",
              "2010-07-18  0.154275 -0.024165  0.264575  0.128719 -0.068433     -0.197673\n",
              "2010-07-19  0.010409 -0.023438  0.415242  0.243857  0.007027     -0.197678\n",
              "2010-07-20 -0.016954 -0.024545  0.347128  0.061255 -0.026549     -0.197674\n",
              "2010-07-21  0.085424 -0.024614  0.292558  0.041247 -0.053964     -0.197692"
            ]
          },
          "metadata": {
            "tags": []
          },
          "execution_count": 18
        }
      ]
    },
    {
      "cell_type": "code",
      "metadata": {
        "id": "hUS3SPqgDXW8",
        "colab_type": "code",
        "outputId": "8e0eb3c0-b51b-4548-ff7b-e2ba9fc04344",
        "colab": {
          "base_uri": "https://localhost:8080/",
          "height": 235
        }
      },
      "source": [
        "data[\"validation\"].head()"
      ],
      "execution_count": 19,
      "outputs": [
        {
          "output_type": "execute_result",
          "data": {
            "text/html": [
              "<div>\n",
              "<style scoped>\n",
              "    .dataframe tbody tr th:only-of-type {\n",
              "        vertical-align: middle;\n",
              "    }\n",
              "\n",
              "    .dataframe tbody tr th {\n",
              "        vertical-align: top;\n",
              "    }\n",
              "\n",
              "    .dataframe thead th {\n",
              "        text-align: right;\n",
              "    }\n",
              "</style>\n",
              "<table border=\"1\" class=\"dataframe\">\n",
              "  <thead>\n",
              "    <tr style=\"text-align: right;\">\n",
              "      <th></th>\n",
              "      <th>dormancy</th>\n",
              "      <th>velocity</th>\n",
              "      <th>nvts</th>\n",
              "      <th>sopr</th>\n",
              "      <th>mvrv</th>\n",
              "      <th>target_price</th>\n",
              "    </tr>\n",
              "    <tr>\n",
              "      <th>date</th>\n",
              "      <th></th>\n",
              "      <th></th>\n",
              "      <th></th>\n",
              "      <th></th>\n",
              "      <th></th>\n",
              "      <th></th>\n",
              "    </tr>\n",
              "  </thead>\n",
              "  <tbody>\n",
              "    <tr>\n",
              "      <th>2016-10-07</th>\n",
              "      <td>-0.138942</td>\n",
              "      <td>0.032624</td>\n",
              "      <td>-0.124311</td>\n",
              "      <td>-0.100253</td>\n",
              "      <td>-0.324395</td>\n",
              "      <td>-0.293851</td>\n",
              "    </tr>\n",
              "    <tr>\n",
              "      <th>2016-10-08</th>\n",
              "      <td>-0.152245</td>\n",
              "      <td>0.052656</td>\n",
              "      <td>-0.124892</td>\n",
              "      <td>-0.095180</td>\n",
              "      <td>-0.320336</td>\n",
              "      <td>-0.294784</td>\n",
              "    </tr>\n",
              "    <tr>\n",
              "      <th>2016-10-09</th>\n",
              "      <td>-0.166743</td>\n",
              "      <td>0.138148</td>\n",
              "      <td>-0.133353</td>\n",
              "      <td>-0.111686</td>\n",
              "      <td>-0.322217</td>\n",
              "      <td>-0.294367</td>\n",
              "    </tr>\n",
              "    <tr>\n",
              "      <th>2016-10-10</th>\n",
              "      <td>-0.130327</td>\n",
              "      <td>0.089605</td>\n",
              "      <td>-0.136278</td>\n",
              "      <td>-0.101512</td>\n",
              "      <td>-0.322193</td>\n",
              "      <td>-0.283805</td>\n",
              "    </tr>\n",
              "    <tr>\n",
              "      <th>2016-10-11</th>\n",
              "      <td>-0.083614</td>\n",
              "      <td>0.115514</td>\n",
              "      <td>-0.119162</td>\n",
              "      <td>-0.036770</td>\n",
              "      <td>-0.303636</td>\n",
              "      <td>-0.286513</td>\n",
              "    </tr>\n",
              "  </tbody>\n",
              "</table>\n",
              "</div>"
            ],
            "text/plain": [
              "            dormancy  velocity      nvts      sopr      mvrv  target_price\n",
              "date                                                                      \n",
              "2016-10-07 -0.138942  0.032624 -0.124311 -0.100253 -0.324395     -0.293851\n",
              "2016-10-08 -0.152245  0.052656 -0.124892 -0.095180 -0.320336     -0.294784\n",
              "2016-10-09 -0.166743  0.138148 -0.133353 -0.111686 -0.322217     -0.294367\n",
              "2016-10-10 -0.130327  0.089605 -0.136278 -0.101512 -0.322193     -0.283805\n",
              "2016-10-11 -0.083614  0.115514 -0.119162 -0.036770 -0.303636     -0.286513"
            ]
          },
          "metadata": {
            "tags": []
          },
          "execution_count": 19
        }
      ]
    },
    {
      "cell_type": "markdown",
      "metadata": {
        "id": "nEIo1zHlQCaH",
        "colab_type": "text"
      },
      "source": [
        "### Hyperparameters"
      ]
    },
    {
      "cell_type": "code",
      "metadata": {
        "id": "xIhgHJmoZnZx",
        "colab_type": "code",
        "colab": {}
      },
      "source": [
        "import torch\n",
        "import torch.nn as nn\n",
        "import torch.optim as optim\n",
        "\n",
        "from torch.utils import data\n",
        "from torch.nn import functional as F\n",
        "from torchvision import datasets, models, transforms"
      ],
      "execution_count": 0,
      "outputs": []
    },
    {
      "cell_type": "code",
      "metadata": {
        "id": "7QrW_GzUh-Y7",
        "colab_type": "code",
        "colab": {}
      },
      "source": [
        "EPOCHS        = 1000\n",
        "DROPOUT       = 0.2\n",
        "DIRECTIONS    = 1\n",
        "NUM_LAYERS    = 2\n",
        "BATCH_SIZE    = 5\n",
        "OUTPUT_SIZE   = 1\n",
        "SEQ_LENGTH    = 7 # 90 day average\n",
        "NUM_FEATURES  = 5\n",
        "HIDDEN_SIZE   = 12\n",
        "LEARNING_RATE = 0.0001\n",
        "STATE_DIM     = NUM_LAYERS * DIRECTIONS, BATCH_SIZE, HIDDEN_SIZE"
      ],
      "execution_count": 0,
      "outputs": []
    },
    {
      "cell_type": "markdown",
      "metadata": {
        "id": "94oJ9BHotzqL",
        "colab_type": "text"
      },
      "source": [
        "### Feature Selection"
      ]
    },
    {
      "cell_type": "code",
      "metadata": {
        "id": "mMHtPgmOG748",
        "colab_type": "code",
        "colab": {}
      },
      "source": [
        "from torch.utils.data import Dataset, DataLoader"
      ],
      "execution_count": 0,
      "outputs": []
    },
    {
      "cell_type": "code",
      "metadata": {
        "id": "TxnsAPGKgH-2",
        "colab_type": "code",
        "colab": {}
      },
      "source": [
        "# def create_xy_pairs(csv_file, seq_length, batch_size):\n",
        "#   target = \"target_price\"\n",
        "#   features = [\"dormancy\", \"velocity\", \"nvts\", \"sopr\", \"mvrv\"]\n",
        "#   data_length = len(csv_file)\n",
        "#   for idx in range(data_length - (seq_length * batch_size)):\n",
        "#     x = csv_file[idx:idx + (seq_length * batch_size)][features].values\n",
        "#     y = csv_file[idx + (seq_length * batch_size):idx + (seq_length * batch_size) + batch_size][target].values\n",
        "#     yield (x, y)"
      ],
      "execution_count": 0,
      "outputs": []
    },
    {
      "cell_type": "code",
      "metadata": {
        "id": "tuqBa3eQEfZb",
        "colab_type": "code",
        "colab": {}
      },
      "source": [
        "class MetricsDataset(Dataset):\n",
        "    \"\"\"Metrics dataset.\"\"\"\n",
        "\n",
        "    def __init__(self, csv_file, seq_length):\n",
        "        \"\"\"\n",
        "        Args:\n",
        "        \"\"\"\n",
        "        self.csv_file = csv_file\n",
        "        self.target = \"target_price\"\n",
        "        self.features = [\"dormancy\", \"velocity\", \"nvts\", \"sopr\", \"mvrv\"]\n",
        "        \n",
        "        self.seq_length = seq_length\n",
        "        self.data_length = len(csv_file)\n",
        "\n",
        "        self.metrics = self.create_xy_pairs()\n",
        "\n",
        "    def create_xy_pairs(self):\n",
        "        pairs = []\n",
        "        for idx in range(self.data_length - self.seq_length):\n",
        "            x = self.csv_file[idx:idx + self.seq_length][self.features].values\n",
        "            y = self.csv_file[idx + self.seq_length:idx + self.seq_length + 1][self.target].values\n",
        "            pairs.append((x, y))\n",
        "        return pairs\n",
        "\n",
        "    def __len__(self):\n",
        "        return len(self.metrics)\n",
        "\n",
        "    def __getitem__(self, idx):\n",
        "        return self.metrics[idx]"
      ],
      "execution_count": 0,
      "outputs": []
    },
    {
      "cell_type": "code",
      "metadata": {
        "id": "Tt7wb9wza8CF",
        "colab_type": "code",
        "colab": {}
      },
      "source": [
        "params = {'batch_size': BATCH_SIZE,\n",
        "          'shuffle': False,\n",
        "          'drop_last': True, # Disregard last incomplete batch\n",
        "          'num_workers': 4}\n",
        "\n",
        "training_ds = MetricsDataset(training_data, SEQ_LENGTH)\n",
        "training_dl = DataLoader(training_ds, **params)\n",
        "\n",
        "validation_ds = MetricsDataset(validation_data, SEQ_LENGTH)\n",
        "validation_dl = DataLoader(validation_ds, **params)\n",
        "\n",
        "testing_ds = MetricsDataset(testing_data, SEQ_LENGTH)\n",
        "testing_dl = DataLoader(testing_ds, **params)"
      ],
      "execution_count": 0,
      "outputs": []
    },
    {
      "cell_type": "markdown",
      "metadata": {
        "id": "W1bMo6jB_O50",
        "colab_type": "text"
      },
      "source": [
        "### Initialize model, criterion and optimizer\n",
        "\n"
      ]
    },
    {
      "cell_type": "code",
      "metadata": {
        "id": "2DNCrlW2W30n",
        "colab_type": "code",
        "colab": {}
      },
      "source": [
        "# Transfer to accelerator\n",
        "use_cuda = torch.cuda.is_available()\n",
        "device = torch.device(\"cuda:0\" if use_cuda else \"cpu\")\n",
        "\n",
        "torch.manual_seed(0)\n",
        "torch.cuda.manual_seed(0)\n",
        "np.random.seed(0)"
      ],
      "execution_count": 0,
      "outputs": []
    },
    {
      "cell_type": "code",
      "metadata": {
        "id": "KZveTUfuW-Fl",
        "colab_type": "code",
        "colab": {}
      },
      "source": [
        "class LSTM(nn.Module):\n",
        "  def __init__(self, input_size, hidden_size, num_layers, state_dim, output_size, dropout_prob):\n",
        "    super(LSTM, self).__init__()\n",
        "\n",
        "    self.state_dim = state_dim\n",
        "\n",
        "    self.lstm = nn.LSTM(input_size, hidden_size, num_layers, batch_first=True, dropout=dropout_prob)\n",
        "    self.dropout = nn.Dropout(dropout_prob)\n",
        "    self.linear = nn.Linear(hidden_size, output_size)\n",
        "\n",
        "  def init_hidden_states(self):\n",
        "    return (torch.zeros(self.state_dim).to(device), torch.zeros(self.state_dim).to(device))\n",
        "\n",
        "  def forward(self, x, states):\n",
        "    x, (h, c) = self.lstm(x, states)\n",
        "    out = self.linear(x)\n",
        "    return out, (h, c)"
      ],
      "execution_count": 0,
      "outputs": []
    },
    {
      "cell_type": "code",
      "metadata": {
        "id": "zjenlKh1jsiS",
        "colab_type": "code",
        "colab": {}
      },
      "source": [
        "model = LSTM(\n",
        "    NUM_FEATURES,\n",
        "    HIDDEN_SIZE,\n",
        "    NUM_LAYERS,\n",
        "    (NUM_LAYERS * DIRECTIONS, BATCH_SIZE, HIDDEN_SIZE),\n",
        "    OUTPUT_SIZE,\n",
        "    DROPOUT\n",
        ").to(device)\n",
        "\n",
        "criterion = nn.MSELoss()\n",
        "optimizer = optim.AdamW(model.linear.parameters(), lr=LEARNING_RATE, weight_decay=0.01)"
      ],
      "execution_count": 0,
      "outputs": []
    },
    {
      "cell_type": "code",
      "metadata": {
        "id": "w48uB_hYan9o",
        "colab_type": "code",
        "colab": {}
      },
      "source": [
        "def save_checkpoint(epoch, min_val_loss, model_state, opt_state):\n",
        "  print(f\"New minimum reached at epoch #{epoch + 1}, saving model state...\")\n",
        "  checkpoint = {\n",
        "    'epoch': epoch + 1,\n",
        "    'min_val_loss': min_val_loss,\n",
        "    'model_state': model_state,\n",
        "    'opt_state': opt_state,\n",
        "  }\n",
        "  torch.save(checkpoint, \"./model_state.pt\")\n",
        "\n",
        "\n",
        "def load_checkpoint(path, model, optimizer):\n",
        "    # load check point\n",
        "    checkpoint = torch.load(path)\n",
        "    min_val_loss = checkpoint[\"min_val_loss\"]\n",
        "    model.load_state_dict(checkpoint[\"model_state\"])\n",
        "    optimizer.load_state_dict(checkpoint[\"opt_state\"])\n",
        "    return model, optimizer, checkpoint[\"epoch\"], min_val_loss\n",
        "\n",
        "\n",
        "def training(model, epochs, validate_every=2):\n",
        "\n",
        "  training_losses = []\n",
        "  validation_losses = []\n",
        "\n",
        "  min_validation_loss = np.Inf\n",
        "\n",
        "  # Set to train mode\n",
        "  model.train()\n",
        "\n",
        "  for epoch in tqdm(range(epochs)):\n",
        "\n",
        "    # Initialize hidden and cell states with dimension:\n",
        "    # (num_layers * num_directions, batch, hidden_size)\n",
        "    states = model.init_hidden_states()\n",
        "    running_training_loss = 0.0\n",
        "\n",
        "    # Begin training\n",
        "    for idx, (x_batch, y_batch) in enumerate(training_dl):\n",
        "          \n",
        "      # Convert to Tensors\n",
        "      x_batch = x_batch.float().to(device)\n",
        "      y_batch = y_batch.float().to(device)\n",
        "      \n",
        "      # Truncated Backpropagation\n",
        "      states = [state.detach() for state in states]          \n",
        "\n",
        "      optimizer.zero_grad()\n",
        "\n",
        "      # Make prediction\n",
        "      output, states = model(x_batch, states)\n",
        "\n",
        "      # Calculate loss\n",
        "      loss = criterion(output[:, -1, :], y_batch)\n",
        "      loss.backward()\n",
        "      running_training_loss += loss.item()\n",
        "\n",
        "      torch.nn.utils.clip_grad_norm_(model.parameters(), 0.5)\n",
        "      optimizer.step()\n",
        "\n",
        "      # print(f\"Epoch {epoch + 1}/{epochs}\", \n",
        "      #       f\"Index: {idx + 1}\",\n",
        "      #       f\"Loss: {loss.item()}\")\n",
        "        \n",
        "    # Average loss across timesteps\n",
        "    training_losses.append(running_training_loss / len(training_dl))\n",
        "        \n",
        "    if epoch % validate_every == 0:\n",
        "\n",
        "      # Set to eval mode\n",
        "      model.eval()\n",
        "\n",
        "      validation_states = model.init_hidden_states()\n",
        "      running_validation_loss = 0.0\n",
        "\n",
        "      for idx, (x_batch, y_batch) in enumerate(validation_dl):\n",
        "\n",
        "        # Convert to Tensors\n",
        "        x_batch = x_batch.float().to(device)\n",
        "        y_batch = y_batch.float().to(device)\n",
        "      \n",
        "        validation_states = [state.detach() for state in validation_states]\n",
        "        \n",
        "        output, validation_states = model(x_batch, validation_states)\n",
        "        validation_loss = criterion(output[:, -1, :], y_batch)\n",
        "        running_validation_loss += validation_loss.item()\n",
        "\n",
        "        # print(f\"Epoch {epoch + 1}/{epochs}\", \n",
        "        #       f\"Index: {idx + 1}\",\n",
        "        #       f\"Validation loss: {validation_loss.item()},\")\n",
        "        \n",
        "    validation_losses.append(running_validation_loss / len(validation_dl))\n",
        "    # Reset to training mode\n",
        "    model.train()\n",
        "\n",
        "    is_best = running_validation_loss / len(validation_dl) < min_validation_loss\n",
        "\n",
        "    if is_best:\n",
        "      min_validation_loss = running_validation_loss / len(validation_dl)\n",
        "      save_checkpoint(epoch + 1, min_validation_loss, model.state_dict(), optimizer.state_dict())\n",
        "        \n",
        "\n",
        "\n",
        "  # Visualize loss\n",
        "  epoch_count = range(1, len(training_losses) + 1)\n",
        "  plt.plot(epoch_count, training_losses, 'r--')\n",
        "  plt.legend(['Training Loss'])\n",
        "  plt.xlabel('Epoch')\n",
        "  plt.ylabel('Loss')\n",
        "  plt.show()\n",
        "\n",
        "  val_epoch_count = range(1, len(validation_losses) + 1)\n",
        "  plt.plot(val_epoch_count, validation_losses, 'b-')\n",
        "  plt.legend(['Validation loss'])\n",
        "  plt.xlabel('Epoch')\n",
        "  plt.ylabel('Loss')\n",
        "  plt.show()    "
      ],
      "execution_count": 0,
      "outputs": []
    },
    {
      "cell_type": "code",
      "metadata": {
        "id": "RFl5ChymdSXt",
        "colab_type": "code",
        "outputId": "12678c28-9155-41dd-b7a5-91ff88807394",
        "colab": {
          "base_uri": "https://localhost:8080/",
          "height": 644
        }
      },
      "source": [
        "training(model, 50)"
      ],
      "execution_count": 30,
      "outputs": [
        {
          "output_type": "stream",
          "text": [
            "  2%|▏         | 1/50 [00:02<02:09,  2.64s/it]"
          ],
          "name": "stderr"
        },
        {
          "output_type": "stream",
          "text": [
            "New minimum reached at epoch #2, saving model state...\n"
          ],
          "name": "stdout"
        },
        {
          "output_type": "stream",
          "text": [
            "  6%|▌         | 3/50 [00:07<01:55,  2.45s/it]"
          ],
          "name": "stderr"
        },
        {
          "output_type": "stream",
          "text": [
            "New minimum reached at epoch #4, saving model state...\n"
          ],
          "name": "stdout"
        },
        {
          "output_type": "stream",
          "text": [
            " 10%|█         | 5/50 [00:11<01:46,  2.36s/it]"
          ],
          "name": "stderr"
        },
        {
          "output_type": "stream",
          "text": [
            "New minimum reached at epoch #6, saving model state...\n"
          ],
          "name": "stdout"
        },
        {
          "output_type": "stream",
          "text": [
            " 14%|█▍        | 7/50 [00:16<01:40,  2.33s/it]"
          ],
          "name": "stderr"
        },
        {
          "output_type": "stream",
          "text": [
            "New minimum reached at epoch #8, saving model state...\n"
          ],
          "name": "stdout"
        },
        {
          "output_type": "stream",
          "text": [
            " 18%|█▊        | 9/50 [00:20<01:37,  2.37s/it]"
          ],
          "name": "stderr"
        },
        {
          "output_type": "stream",
          "text": [
            "New minimum reached at epoch #10, saving model state...\n"
          ],
          "name": "stdout"
        },
        {
          "output_type": "stream",
          "text": [
            "100%|██████████| 50/50 [01:57<00:00,  2.30s/it]\n"
          ],
          "name": "stderr"
        },
        {
          "output_type": "display_data",
          "data": {
            "image/png": "[encoded data removed]",
            "text/plain": [
              "<Figure size 432x288 with 1 Axes>"
            ]
          },
          "metadata": {
            "tags": []
          }
        },
        {
          "output_type": "display_data",
          "data": {
            "image/png": "[encoded data removed]",
            "text/plain": [
              "<Figure size 432x288 with 1 Axes>"
            ]
          },
          "metadata": {
            "tags": []
          }
        }
      ]
    },
    {
      "cell_type": "code",
      "metadata": {
        "id": "Oghu8-XUKeFK",
        "colab_type": "code",
        "outputId": "4e580d4a-c311-4e55-c808-2d38428e099b",
        "colab": {
          "base_uri": "https://localhost:8080/",
          "height": 289
        }
      },
      "source": [
        "path = \"./model_state.pt\"\n",
        "model, optimizer, start_epoch, valid_loss_min = load_checkpoint(path, model, optimizer)\n",
        "print(\"model = \", model)\n",
        "print(\"optimizer = \", optimizer)\n",
        "print(\"start_epoch = \", start_epoch)\n",
        "print(\"valid_loss_min = \", valid_loss_min)\n",
        "print(\"valid_loss_min = {:.6f}\".format(valid_loss_min))"
      ],
      "execution_count": 31,
      "outputs": [
        {
          "output_type": "stream",
          "text": [
            "model =  LSTM(\n",
            "  (lstm): LSTM(5, 12, num_layers=2, batch_first=True, dropout=0.2)\n",
            "  (dropout): Dropout(p=0.2, inplace=False)\n",
            "  (linear): Linear(in_features=12, out_features=1, bias=True)\n",
            ")\n",
            "optimizer =  AdamW (\n",
            "Parameter Group 0\n",
            "    amsgrad: False\n",
            "    betas: (0.9, 0.999)\n",
            "    eps: 1e-08\n",
            "    lr: 0.0001\n",
            "    weight_decay: 0.01\n",
            ")\n",
            "start_epoch =  10\n",
            "valid_loss_min =  0.075432852239729\n",
            "valid_loss_min = 0.075433\n"
          ],
          "name": "stdout"
        }
      ]
    },
    {
      "cell_type": "code",
      "metadata": {
        "id": "qB4123Z5sLKc",
        "colab_type": "code",
        "colab": {}
      },
      "source": [
        "testing_states = model.init_hidden_states()\n",
        "predictions = []\n",
        "for idx, (x_batch, _) in enumerate(testing_dl):\n",
        "  with torch.no_grad():\n",
        "    x_batch = x_batch.float().to(device)\n",
        "    testing_states = [state.detach() for state in testing_states]\n",
        "    output, testing_states = model(x_batch, testing_states)\n",
        "    predictions.append(output[:, -1, :])"
      ],
      "execution_count": 0,
      "outputs": []
    },
    {
      "cell_type": "code",
      "metadata": {
        "id": "fWuKScf4wO4J",
        "colab_type": "code",
        "outputId": "fca654ff-1bac-4296-ca57-74a062dc8800",
        "colab": {
          "base_uri": "https://localhost:8080/",
          "height": 34
        }
      },
      "source": [
        "len(predictions)"
      ],
      "execution_count": 33,
      "outputs": [
        {
          "output_type": "execute_result",
          "data": {
            "text/plain": [
              "55"
            ]
          },
          "metadata": {
            "tags": []
          },
          "execution_count": 33
        }
      ]
    },
    {
      "cell_type": "code",
      "metadata": {
        "id": "qs2_rbXv4Alj",
        "colab_type": "code",
        "colab": {
          "base_uri": "https://localhost:8080/",
          "height": 102
        },
        "outputId": "cb83a3b2-645f-4907-d5e5-042fd080125c"
      },
      "source": [
        "predictions[-1]"
      ],
      "execution_count": 35,
      "outputs": [
        {
          "output_type": "execute_result",
          "data": {
            "text/plain": [
              "tensor([[ 0.0052],\n",
              "        [ 0.0032],\n",
              "        [-0.0028],\n",
              "        [-0.0086],\n",
              "        [-0.0054]], device='cuda:0')"
            ]
          },
          "metadata": {
            "tags": []
          },
          "execution_count": 35
        }
      ]
    },
    {
      "cell_type": "code",
      "metadata": {
        "id": "51z6pNrlxauP",
        "colab_type": "code",
        "colab": {
          "base_uri": "https://localhost:8080/",
          "height": 627
        },
        "outputId": "a959e532-52b1-44c7-a4d4-1be88f6aae8b"
      },
      "source": [
        "epoch_count = range(1, len(predictions) + 1)\n",
        "plt.plot(epoch_count, predictions, 'r--')\n",
        "plt.legend(['Predictions'])\n",
        "plt.xlabel('Epoch')\n",
        "plt.ylabel('Prediction')\n",
        "plt.show()"
      ],
      "execution_count": 34,
      "outputs": [
        {
          "output_type": "error",
          "ename": "ValueError",
          "evalue": "ignored",
          "traceback": [
            "\u001b[0;31m---------------------------------------------------------------------------\u001b[0m",
            "\u001b[0;31mValueError\u001b[0m                                Traceback (most recent call last)",
            "\u001b[0;32m<ipython-input-34-5b83ade17bec>\u001b[0m in \u001b[0;36m<module>\u001b[0;34m()\u001b[0m\n\u001b[1;32m      1\u001b[0m \u001b[0mepoch_count\u001b[0m \u001b[0;34m=\u001b[0m \u001b[0mrange\u001b[0m\u001b[0;34m(\u001b[0m\u001b[0;36m1\u001b[0m\u001b[0;34m,\u001b[0m \u001b[0mlen\u001b[0m\u001b[0;34m(\u001b[0m\u001b[0mpredictions\u001b[0m\u001b[0;34m)\u001b[0m \u001b[0;34m+\u001b[0m \u001b[0;36m1\u001b[0m\u001b[0;34m)\u001b[0m\u001b[0;34m\u001b[0m\u001b[0;34m\u001b[0m\u001b[0m\n\u001b[0;32m----> 2\u001b[0;31m \u001b[0mplt\u001b[0m\u001b[0;34m.\u001b[0m\u001b[0mplot\u001b[0m\u001b[0;34m(\u001b[0m\u001b[0mepoch_count\u001b[0m\u001b[0;34m,\u001b[0m \u001b[0mpredictions\u001b[0m\u001b[0;34m,\u001b[0m \u001b[0;34m'r--'\u001b[0m\u001b[0;34m)\u001b[0m\u001b[0;34m\u001b[0m\u001b[0;34m\u001b[0m\u001b[0m\n\u001b[0m\u001b[1;32m      3\u001b[0m \u001b[0mplt\u001b[0m\u001b[0;34m.\u001b[0m\u001b[0mlegend\u001b[0m\u001b[0;34m(\u001b[0m\u001b[0;34m[\u001b[0m\u001b[0;34m'Predictions'\u001b[0m\u001b[0;34m]\u001b[0m\u001b[0;34m)\u001b[0m\u001b[0;34m\u001b[0m\u001b[0;34m\u001b[0m\u001b[0m\n\u001b[1;32m      4\u001b[0m \u001b[0mplt\u001b[0m\u001b[0;34m.\u001b[0m\u001b[0mxlabel\u001b[0m\u001b[0;34m(\u001b[0m\u001b[0;34m'Epoch'\u001b[0m\u001b[0;34m)\u001b[0m\u001b[0;34m\u001b[0m\u001b[0;34m\u001b[0m\u001b[0m\n\u001b[1;32m      5\u001b[0m \u001b[0mplt\u001b[0m\u001b[0;34m.\u001b[0m\u001b[0mylabel\u001b[0m\u001b[0;34m(\u001b[0m\u001b[0;34m'Prediction'\u001b[0m\u001b[0;34m)\u001b[0m\u001b[0;34m\u001b[0m\u001b[0;34m\u001b[0m\u001b[0m\n",
            "\u001b[0;32m/usr/local/lib/python3.6/dist-packages/matplotlib/pyplot.py\u001b[0m in \u001b[0;36mplot\u001b[0;34m(scalex, scaley, data, *args, **kwargs)\u001b[0m\n\u001b[1;32m   2794\u001b[0m     return gca().plot(\n\u001b[1;32m   2795\u001b[0m         *args, scalex=scalex, scaley=scaley, **({\"data\": data} if data\n\u001b[0;32m-> 2796\u001b[0;31m         is not None else {}), **kwargs)\n\u001b[0m\u001b[1;32m   2797\u001b[0m \u001b[0;34m\u001b[0m\u001b[0m\n\u001b[1;32m   2798\u001b[0m \u001b[0;34m\u001b[0m\u001b[0m\n",
            "\u001b[0;32m/usr/local/lib/python3.6/dist-packages/matplotlib/axes/_axes.py\u001b[0m in \u001b[0;36mplot\u001b[0;34m(self, scalex, scaley, data, *args, **kwargs)\u001b[0m\n\u001b[1;32m   1665\u001b[0m         \u001b[0mlines\u001b[0m \u001b[0;34m=\u001b[0m \u001b[0;34m[\u001b[0m\u001b[0;34m*\u001b[0m\u001b[0mself\u001b[0m\u001b[0;34m.\u001b[0m\u001b[0m_get_lines\u001b[0m\u001b[0;34m(\u001b[0m\u001b[0;34m*\u001b[0m\u001b[0margs\u001b[0m\u001b[0;34m,\u001b[0m \u001b[0mdata\u001b[0m\u001b[0;34m=\u001b[0m\u001b[0mdata\u001b[0m\u001b[0;34m,\u001b[0m \u001b[0;34m**\u001b[0m\u001b[0mkwargs\u001b[0m\u001b[0;34m)\u001b[0m\u001b[0;34m]\u001b[0m\u001b[0;34m\u001b[0m\u001b[0;34m\u001b[0m\u001b[0m\n\u001b[1;32m   1666\u001b[0m         \u001b[0;32mfor\u001b[0m \u001b[0mline\u001b[0m \u001b[0;32min\u001b[0m \u001b[0mlines\u001b[0m\u001b[0;34m:\u001b[0m\u001b[0;34m\u001b[0m\u001b[0;34m\u001b[0m\u001b[0m\n\u001b[0;32m-> 1667\u001b[0;31m             \u001b[0mself\u001b[0m\u001b[0;34m.\u001b[0m\u001b[0madd_line\u001b[0m\u001b[0;34m(\u001b[0m\u001b[0mline\u001b[0m\u001b[0;34m)\u001b[0m\u001b[0;34m\u001b[0m\u001b[0;34m\u001b[0m\u001b[0m\n\u001b[0m\u001b[1;32m   1668\u001b[0m         \u001b[0mself\u001b[0m\u001b[0;34m.\u001b[0m\u001b[0mautoscale_view\u001b[0m\u001b[0;34m(\u001b[0m\u001b[0mscalex\u001b[0m\u001b[0;34m=\u001b[0m\u001b[0mscalex\u001b[0m\u001b[0;34m,\u001b[0m \u001b[0mscaley\u001b[0m\u001b[0;34m=\u001b[0m\u001b[0mscaley\u001b[0m\u001b[0;34m)\u001b[0m\u001b[0;34m\u001b[0m\u001b[0;34m\u001b[0m\u001b[0m\n\u001b[1;32m   1669\u001b[0m         \u001b[0;32mreturn\u001b[0m \u001b[0mlines\u001b[0m\u001b[0;34m\u001b[0m\u001b[0;34m\u001b[0m\u001b[0m\n",
            "\u001b[0;32m/usr/local/lib/python3.6/dist-packages/matplotlib/axes/_base.py\u001b[0m in \u001b[0;36madd_line\u001b[0;34m(self, line)\u001b[0m\n\u001b[1;32m   1900\u001b[0m             \u001b[0mline\u001b[0m\u001b[0;34m.\u001b[0m\u001b[0mset_clip_path\u001b[0m\u001b[0;34m(\u001b[0m\u001b[0mself\u001b[0m\u001b[0;34m.\u001b[0m\u001b[0mpatch\u001b[0m\u001b[0;34m)\u001b[0m\u001b[0;34m\u001b[0m\u001b[0;34m\u001b[0m\u001b[0m\n\u001b[1;32m   1901\u001b[0m \u001b[0;34m\u001b[0m\u001b[0m\n\u001b[0;32m-> 1902\u001b[0;31m         \u001b[0mself\u001b[0m\u001b[0;34m.\u001b[0m\u001b[0m_update_line_limits\u001b[0m\u001b[0;34m(\u001b[0m\u001b[0mline\u001b[0m\u001b[0;34m)\u001b[0m\u001b[0;34m\u001b[0m\u001b[0;34m\u001b[0m\u001b[0m\n\u001b[0m\u001b[1;32m   1903\u001b[0m         \u001b[0;32mif\u001b[0m \u001b[0;32mnot\u001b[0m \u001b[0mline\u001b[0m\u001b[0;34m.\u001b[0m\u001b[0mget_label\u001b[0m\u001b[0;34m(\u001b[0m\u001b[0;34m)\u001b[0m\u001b[0;34m:\u001b[0m\u001b[0;34m\u001b[0m\u001b[0;34m\u001b[0m\u001b[0m\n\u001b[1;32m   1904\u001b[0m             \u001b[0mline\u001b[0m\u001b[0;34m.\u001b[0m\u001b[0mset_label\u001b[0m\u001b[0;34m(\u001b[0m\u001b[0;34m'_line%d'\u001b[0m \u001b[0;34m%\u001b[0m \u001b[0mlen\u001b[0m\u001b[0;34m(\u001b[0m\u001b[0mself\u001b[0m\u001b[0;34m.\u001b[0m\u001b[0mlines\u001b[0m\u001b[0;34m)\u001b[0m\u001b[0;34m)\u001b[0m\u001b[0;34m\u001b[0m\u001b[0;34m\u001b[0m\u001b[0m\n",
            "\u001b[0;32m/usr/local/lib/python3.6/dist-packages/matplotlib/axes/_base.py\u001b[0m in \u001b[0;36m_update_line_limits\u001b[0;34m(self, line)\u001b[0m\n\u001b[1;32m   1922\u001b[0m         \u001b[0mFigures\u001b[0m \u001b[0mout\u001b[0m \u001b[0mthe\u001b[0m \u001b[0mdata\u001b[0m \u001b[0mlimit\u001b[0m \u001b[0mof\u001b[0m \u001b[0mthe\u001b[0m \u001b[0mgiven\u001b[0m \u001b[0mline\u001b[0m\u001b[0;34m,\u001b[0m \u001b[0mupdating\u001b[0m \u001b[0mself\u001b[0m\u001b[0;34m.\u001b[0m\u001b[0mdataLim\u001b[0m\u001b[0;34m.\u001b[0m\u001b[0;34m\u001b[0m\u001b[0;34m\u001b[0m\u001b[0m\n\u001b[1;32m   1923\u001b[0m         \"\"\"\n\u001b[0;32m-> 1924\u001b[0;31m         \u001b[0mpath\u001b[0m \u001b[0;34m=\u001b[0m \u001b[0mline\u001b[0m\u001b[0;34m.\u001b[0m\u001b[0mget_path\u001b[0m\u001b[0;34m(\u001b[0m\u001b[0;34m)\u001b[0m\u001b[0;34m\u001b[0m\u001b[0;34m\u001b[0m\u001b[0m\n\u001b[0m\u001b[1;32m   1925\u001b[0m         \u001b[0;32mif\u001b[0m \u001b[0mpath\u001b[0m\u001b[0;34m.\u001b[0m\u001b[0mvertices\u001b[0m\u001b[0;34m.\u001b[0m\u001b[0msize\u001b[0m \u001b[0;34m==\u001b[0m \u001b[0;36m0\u001b[0m\u001b[0;34m:\u001b[0m\u001b[0;34m\u001b[0m\u001b[0;34m\u001b[0m\u001b[0m\n\u001b[1;32m   1926\u001b[0m             \u001b[0;32mreturn\u001b[0m\u001b[0;34m\u001b[0m\u001b[0;34m\u001b[0m\u001b[0m\n",
            "\u001b[0;32m/usr/local/lib/python3.6/dist-packages/matplotlib/lines.py\u001b[0m in \u001b[0;36mget_path\u001b[0;34m(self)\u001b[0m\n\u001b[1;32m   1025\u001b[0m         \"\"\"\n\u001b[1;32m   1026\u001b[0m         \u001b[0;32mif\u001b[0m \u001b[0mself\u001b[0m\u001b[0;34m.\u001b[0m\u001b[0m_invalidy\u001b[0m \u001b[0;32mor\u001b[0m \u001b[0mself\u001b[0m\u001b[0;34m.\u001b[0m\u001b[0m_invalidx\u001b[0m\u001b[0;34m:\u001b[0m\u001b[0;34m\u001b[0m\u001b[0;34m\u001b[0m\u001b[0m\n\u001b[0;32m-> 1027\u001b[0;31m             \u001b[0mself\u001b[0m\u001b[0;34m.\u001b[0m\u001b[0mrecache\u001b[0m\u001b[0;34m(\u001b[0m\u001b[0;34m)\u001b[0m\u001b[0;34m\u001b[0m\u001b[0;34m\u001b[0m\u001b[0m\n\u001b[0m\u001b[1;32m   1028\u001b[0m         \u001b[0;32mreturn\u001b[0m \u001b[0mself\u001b[0m\u001b[0;34m.\u001b[0m\u001b[0m_path\u001b[0m\u001b[0;34m\u001b[0m\u001b[0;34m\u001b[0m\u001b[0m\n\u001b[1;32m   1029\u001b[0m \u001b[0;34m\u001b[0m\u001b[0m\n",
            "\u001b[0;32m/usr/local/lib/python3.6/dist-packages/matplotlib/lines.py\u001b[0m in \u001b[0;36mrecache\u001b[0;34m(self, always)\u001b[0m\n\u001b[1;32m    673\u001b[0m         \u001b[0;32mif\u001b[0m \u001b[0malways\u001b[0m \u001b[0;32mor\u001b[0m \u001b[0mself\u001b[0m\u001b[0;34m.\u001b[0m\u001b[0m_invalidy\u001b[0m\u001b[0;34m:\u001b[0m\u001b[0;34m\u001b[0m\u001b[0;34m\u001b[0m\u001b[0m\n\u001b[1;32m    674\u001b[0m             \u001b[0myconv\u001b[0m \u001b[0;34m=\u001b[0m \u001b[0mself\u001b[0m\u001b[0;34m.\u001b[0m\u001b[0mconvert_yunits\u001b[0m\u001b[0;34m(\u001b[0m\u001b[0mself\u001b[0m\u001b[0;34m.\u001b[0m\u001b[0m_yorig\u001b[0m\u001b[0;34m)\u001b[0m\u001b[0;34m\u001b[0m\u001b[0;34m\u001b[0m\u001b[0m\n\u001b[0;32m--> 675\u001b[0;31m             \u001b[0my\u001b[0m \u001b[0;34m=\u001b[0m \u001b[0m_to_unmasked_float_array\u001b[0m\u001b[0;34m(\u001b[0m\u001b[0myconv\u001b[0m\u001b[0;34m)\u001b[0m\u001b[0;34m.\u001b[0m\u001b[0mravel\u001b[0m\u001b[0;34m(\u001b[0m\u001b[0;34m)\u001b[0m\u001b[0;34m\u001b[0m\u001b[0;34m\u001b[0m\u001b[0m\n\u001b[0m\u001b[1;32m    676\u001b[0m         \u001b[0;32melse\u001b[0m\u001b[0;34m:\u001b[0m\u001b[0;34m\u001b[0m\u001b[0;34m\u001b[0m\u001b[0m\n\u001b[1;32m    677\u001b[0m             \u001b[0my\u001b[0m \u001b[0;34m=\u001b[0m \u001b[0mself\u001b[0m\u001b[0;34m.\u001b[0m\u001b[0m_y\u001b[0m\u001b[0;34m\u001b[0m\u001b[0;34m\u001b[0m\u001b[0m\n",
            "\u001b[0;32m/usr/local/lib/python3.6/dist-packages/matplotlib/cbook/__init__.py\u001b[0m in \u001b[0;36m_to_unmasked_float_array\u001b[0;34m(x)\u001b[0m\n\u001b[1;32m   1388\u001b[0m         \u001b[0;32mreturn\u001b[0m \u001b[0mnp\u001b[0m\u001b[0;34m.\u001b[0m\u001b[0mma\u001b[0m\u001b[0;34m.\u001b[0m\u001b[0masarray\u001b[0m\u001b[0;34m(\u001b[0m\u001b[0mx\u001b[0m\u001b[0;34m,\u001b[0m \u001b[0mfloat\u001b[0m\u001b[0;34m)\u001b[0m\u001b[0;34m.\u001b[0m\u001b[0mfilled\u001b[0m\u001b[0;34m(\u001b[0m\u001b[0mnp\u001b[0m\u001b[0;34m.\u001b[0m\u001b[0mnan\u001b[0m\u001b[0;34m)\u001b[0m\u001b[0;34m\u001b[0m\u001b[0;34m\u001b[0m\u001b[0m\n\u001b[1;32m   1389\u001b[0m     \u001b[0;32melse\u001b[0m\u001b[0;34m:\u001b[0m\u001b[0;34m\u001b[0m\u001b[0;34m\u001b[0m\u001b[0m\n\u001b[0;32m-> 1390\u001b[0;31m         \u001b[0;32mreturn\u001b[0m \u001b[0mnp\u001b[0m\u001b[0;34m.\u001b[0m\u001b[0masarray\u001b[0m\u001b[0;34m(\u001b[0m\u001b[0mx\u001b[0m\u001b[0;34m,\u001b[0m \u001b[0mfloat\u001b[0m\u001b[0;34m)\u001b[0m\u001b[0;34m\u001b[0m\u001b[0;34m\u001b[0m\u001b[0m\n\u001b[0m\u001b[1;32m   1391\u001b[0m \u001b[0;34m\u001b[0m\u001b[0m\n\u001b[1;32m   1392\u001b[0m \u001b[0;34m\u001b[0m\u001b[0m\n",
            "\u001b[0;32m/usr/local/lib/python3.6/dist-packages/numpy/core/_asarray.py\u001b[0m in \u001b[0;36masarray\u001b[0;34m(a, dtype, order)\u001b[0m\n\u001b[1;32m     83\u001b[0m \u001b[0;34m\u001b[0m\u001b[0m\n\u001b[1;32m     84\u001b[0m     \"\"\"\n\u001b[0;32m---> 85\u001b[0;31m     \u001b[0;32mreturn\u001b[0m \u001b[0marray\u001b[0m\u001b[0;34m(\u001b[0m\u001b[0ma\u001b[0m\u001b[0;34m,\u001b[0m \u001b[0mdtype\u001b[0m\u001b[0;34m,\u001b[0m \u001b[0mcopy\u001b[0m\u001b[0;34m=\u001b[0m\u001b[0;32mFalse\u001b[0m\u001b[0;34m,\u001b[0m \u001b[0morder\u001b[0m\u001b[0;34m=\u001b[0m\u001b[0morder\u001b[0m\u001b[0;34m)\u001b[0m\u001b[0;34m\u001b[0m\u001b[0;34m\u001b[0m\u001b[0m\n\u001b[0m\u001b[1;32m     86\u001b[0m \u001b[0;34m\u001b[0m\u001b[0m\n\u001b[1;32m     87\u001b[0m \u001b[0;34m\u001b[0m\u001b[0m\n",
            "\u001b[0;31mValueError\u001b[0m: only one element tensors can be converted to Python scalars"
          ]
        },
        {
          "output_type": "display_data",
          "data": {
            "image/png": "[encoded data removed]",
            "text/plain": [
              "<Figure size 432x288 with 1 Axes>"
            ]
          },
          "metadata": {
            "tags": []
          }
        }
      ]
    },
    {
      "cell_type": "code",
      "metadata": {
        "id": "cIaxnf53xkJP",
        "colab_type": "code",
        "colab": {}
      },
      "source": [
        ""
      ],
      "execution_count": 0,
      "outputs": []
    },
    {
      "cell_type": "code",
      "metadata": {
        "id": "J2ostKfdw-tg",
        "colab_type": "code",
        "colab": {}
      },
      "source": [
        ""
      ],
      "execution_count": 0,
      "outputs": []
    },
    {
      "cell_type": "code",
      "metadata": {
        "id": "-tVuBbXGS5tS",
        "colab_type": "code",
        "colab": {}
      },
      "source": [
        "state_dim = (NUM_LAYERS * DIRECTIONS, BATCH_SIZE, HIDDEN_SIZE)\n",
        "\n",
        "def make_predictions(input, num_predictions):\n",
        "    model.eval()\n",
        "    predictions = []\n",
        "    for i in range(num_predictions):\n",
        "        with torch.no_grad():\n",
        "\n",
        "\n",
        "        \n",
        "          states = (torch.zeros(state_dim).to(device), torch.zeros(state_dim).to(device))\n",
        "          predictions.append(model(input, states).item())\n",
        "  return predictions"
      ],
      "execution_count": 0,
      "outputs": []
    },
    {
      "cell_type": "code",
      "metadata": {
        "id": "zAPJesXyyEt8",
        "colab_type": "code",
        "colab": {}
      },
      "source": [
        "# note: batch normalization instead of general normalization\n",
        "\n",
        "# Make 1 prediction\n",
        "\n",
        "test_window = test_data[:SEQ_LENGTH]\n",
        "test_tensor = torch.tensor(test_window.values).float()\n",
        "test_batch = test_tensor.view(1, SEQ_LENGTH).to(device)\n",
        "make_predictions(test_tensor, 1)"
      ],
      "execution_count": 0,
      "outputs": []
    },
    {
      "cell_type": "code",
      "metadata": {
        "id": "nGlplT533V7T",
        "colab_type": "code",
        "outputId": "c2075b48-6556-4a1c-9c0c-ec5991a9792f",
        "colab": {
          "base_uri": "https://localhost:8080/",
          "height": 34
        }
      },
      "source": [
        "torch.from_numpy(testing_data.iloc[50][[\"dormancy\", \"velocity\", \"nvts\", \"sopr\", \"mvrv\"]].values).float()"
      ],
      "execution_count": 0,
      "outputs": [
        {
          "output_type": "execute_result",
          "data": {
            "text/plain": [
              "tensor([ 6.3115,  0.0595, 10.0556,  1.0050,  1.8457])"
            ]
          },
          "metadata": {
            "tags": []
          },
          "execution_count": 58
        }
      ]
    },
    {
      "cell_type": "code",
      "metadata": {
        "id": "0yZdSCM-uSPx",
        "colab_type": "code",
        "colab": {}
      },
      "source": [
        "# https://github.com/jaungiers/LSTM-Neural-Network-for-Time-Series-Prediction\n",
        "\n",
        "def predict_sequences_multiple(model, data, window_size, prediction_len):\n",
        "  prediction_seqs = []\n",
        "  for i in range(int(len(data)/prediction_len)):\n",
        "    curr_frame = data[i*prediction_len]\n",
        "    predicted = []\n",
        "    with torch.no_grad():\n",
        "      for j in range(prediction_len):\n",
        "        predicted.append(model(curr_frame[newaxis,:,:])[0,0])\n",
        "        curr_frame = curr_frame[1:]\n",
        "        curr_frame = np.insert(curr_frame, [window_size-2], predicted[-1], axis=0)\n",
        "      prediction_seqs.append(predicted)\n",
        "  return prediction_seqs"
      ],
      "execution_count": 0,
      "outputs": []
    },
    {
      "cell_type": "code",
      "metadata": {
        "id": "ItYf9ozvzYt3",
        "colab_type": "code",
        "outputId": "5ea5025e-9217-4d48-a5c0-6133cd88a27c",
        "colab": {
          "base_uri": "https://localhost:8080/",
          "height": 698
        }
      },
      "source": [
        "predict_sequences_multiple(model, testing_data, SEQ_LENGTH, 50)"
      ],
      "execution_count": 0,
      "outputs": [
        {
          "output_type": "error",
          "ename": "KeyError",
          "evalue": "ignored",
          "traceback": [
            "\u001b[0;31m---------------------------------------------------------------------------\u001b[0m",
            "\u001b[0;31mKeyError\u001b[0m                                  Traceback (most recent call last)",
            "\u001b[0;32m/usr/local/lib/python3.6/dist-packages/pandas/core/indexes/base.py\u001b[0m in \u001b[0;36mget_loc\u001b[0;34m(self, key, method, tolerance)\u001b[0m\n\u001b[1;32m   2896\u001b[0m             \u001b[0;32mtry\u001b[0m\u001b[0;34m:\u001b[0m\u001b[0;34m\u001b[0m\u001b[0;34m\u001b[0m\u001b[0m\n\u001b[0;32m-> 2897\u001b[0;31m                 \u001b[0;32mreturn\u001b[0m \u001b[0mself\u001b[0m\u001b[0;34m.\u001b[0m\u001b[0m_engine\u001b[0m\u001b[0;34m.\u001b[0m\u001b[0mget_loc\u001b[0m\u001b[0;34m(\u001b[0m\u001b[0mkey\u001b[0m\u001b[0;34m)\u001b[0m\u001b[0;34m\u001b[0m\u001b[0;34m\u001b[0m\u001b[0m\n\u001b[0m\u001b[1;32m   2898\u001b[0m             \u001b[0;32mexcept\u001b[0m \u001b[0mKeyError\u001b[0m\u001b[0;34m:\u001b[0m\u001b[0;34m\u001b[0m\u001b[0;34m\u001b[0m\u001b[0m\n",
            "\u001b[0;32mpandas/_libs/index.pyx\u001b[0m in \u001b[0;36mpandas._libs.index.IndexEngine.get_loc\u001b[0;34m()\u001b[0m\n",
            "\u001b[0;32mpandas/_libs/index.pyx\u001b[0m in \u001b[0;36mpandas._libs.index.IndexEngine.get_loc\u001b[0;34m()\u001b[0m\n",
            "\u001b[0;32mpandas/_libs/hashtable_class_helper.pxi\u001b[0m in \u001b[0;36mpandas._libs.hashtable.PyObjectHashTable.get_item\u001b[0;34m()\u001b[0m\n",
            "\u001b[0;32mpandas/_libs/hashtable_class_helper.pxi\u001b[0m in \u001b[0;36mpandas._libs.hashtable.PyObjectHashTable.get_item\u001b[0;34m()\u001b[0m\n",
            "\u001b[0;31mKeyError\u001b[0m: 0",
            "\nDuring handling of the above exception, another exception occurred:\n",
            "\u001b[0;31mKeyError\u001b[0m                                  Traceback (most recent call last)",
            "\u001b[0;32m<ipython-input-44-9e401e8ecb75>\u001b[0m in \u001b[0;36m<module>\u001b[0;34m()\u001b[0m\n\u001b[0;32m----> 1\u001b[0;31m \u001b[0mpredict_sequences_multiple\u001b[0m\u001b[0;34m(\u001b[0m\u001b[0mmodel\u001b[0m\u001b[0;34m,\u001b[0m \u001b[0mtesting_data\u001b[0m\u001b[0;34m,\u001b[0m \u001b[0mSEQ_LENGTH\u001b[0m\u001b[0;34m,\u001b[0m \u001b[0;36m50\u001b[0m\u001b[0;34m)\u001b[0m\u001b[0;34m\u001b[0m\u001b[0;34m\u001b[0m\u001b[0m\n\u001b[0m",
            "\u001b[0;32m<ipython-input-43-4931f9276f19>\u001b[0m in \u001b[0;36mpredict_sequences_multiple\u001b[0;34m(model, data, window_size, prediction_len)\u001b[0m\n\u001b[1;32m      3\u001b[0m   \u001b[0mprediction_seqs\u001b[0m \u001b[0;34m=\u001b[0m \u001b[0;34m[\u001b[0m\u001b[0;34m]\u001b[0m\u001b[0;34m\u001b[0m\u001b[0;34m\u001b[0m\u001b[0m\n\u001b[1;32m      4\u001b[0m   \u001b[0;32mfor\u001b[0m \u001b[0mi\u001b[0m \u001b[0;32min\u001b[0m \u001b[0mrange\u001b[0m\u001b[0;34m(\u001b[0m\u001b[0mint\u001b[0m\u001b[0;34m(\u001b[0m\u001b[0mlen\u001b[0m\u001b[0;34m(\u001b[0m\u001b[0mdata\u001b[0m\u001b[0;34m)\u001b[0m\u001b[0;34m/\u001b[0m\u001b[0mprediction_len\u001b[0m\u001b[0;34m)\u001b[0m\u001b[0;34m)\u001b[0m\u001b[0;34m:\u001b[0m\u001b[0;34m\u001b[0m\u001b[0;34m\u001b[0m\u001b[0m\n\u001b[0;32m----> 5\u001b[0;31m     \u001b[0mcurr_frame\u001b[0m \u001b[0;34m=\u001b[0m \u001b[0mdata\u001b[0m\u001b[0;34m[\u001b[0m\u001b[0mi\u001b[0m\u001b[0;34m*\u001b[0m\u001b[0mprediction_len\u001b[0m\u001b[0;34m]\u001b[0m\u001b[0;34m\u001b[0m\u001b[0;34m\u001b[0m\u001b[0m\n\u001b[0m\u001b[1;32m      6\u001b[0m     \u001b[0mpredicted\u001b[0m \u001b[0;34m=\u001b[0m \u001b[0;34m[\u001b[0m\u001b[0;34m]\u001b[0m\u001b[0;34m\u001b[0m\u001b[0;34m\u001b[0m\u001b[0m\n\u001b[1;32m      7\u001b[0m     \u001b[0;32mwith\u001b[0m \u001b[0mtorch\u001b[0m\u001b[0;34m.\u001b[0m\u001b[0mno_grad\u001b[0m\u001b[0;34m(\u001b[0m\u001b[0;34m)\u001b[0m\u001b[0;34m:\u001b[0m\u001b[0;34m\u001b[0m\u001b[0;34m\u001b[0m\u001b[0m\n",
            "\u001b[0;32m/usr/local/lib/python3.6/dist-packages/pandas/core/frame.py\u001b[0m in \u001b[0;36m__getitem__\u001b[0;34m(self, key)\u001b[0m\n\u001b[1;32m   2993\u001b[0m             \u001b[0;32mif\u001b[0m \u001b[0mself\u001b[0m\u001b[0;34m.\u001b[0m\u001b[0mcolumns\u001b[0m\u001b[0;34m.\u001b[0m\u001b[0mnlevels\u001b[0m \u001b[0;34m>\u001b[0m \u001b[0;36m1\u001b[0m\u001b[0;34m:\u001b[0m\u001b[0;34m\u001b[0m\u001b[0;34m\u001b[0m\u001b[0m\n\u001b[1;32m   2994\u001b[0m                 \u001b[0;32mreturn\u001b[0m \u001b[0mself\u001b[0m\u001b[0;34m.\u001b[0m\u001b[0m_getitem_multilevel\u001b[0m\u001b[0;34m(\u001b[0m\u001b[0mkey\u001b[0m\u001b[0;34m)\u001b[0m\u001b[0;34m\u001b[0m\u001b[0;34m\u001b[0m\u001b[0m\n\u001b[0;32m-> 2995\u001b[0;31m             \u001b[0mindexer\u001b[0m \u001b[0;34m=\u001b[0m \u001b[0mself\u001b[0m\u001b[0;34m.\u001b[0m\u001b[0mcolumns\u001b[0m\u001b[0;34m.\u001b[0m\u001b[0mget_loc\u001b[0m\u001b[0;34m(\u001b[0m\u001b[0mkey\u001b[0m\u001b[0;34m)\u001b[0m\u001b[0;34m\u001b[0m\u001b[0;34m\u001b[0m\u001b[0m\n\u001b[0m\u001b[1;32m   2996\u001b[0m             \u001b[0;32mif\u001b[0m \u001b[0mis_integer\u001b[0m\u001b[0;34m(\u001b[0m\u001b[0mindexer\u001b[0m\u001b[0;34m)\u001b[0m\u001b[0;34m:\u001b[0m\u001b[0;34m\u001b[0m\u001b[0;34m\u001b[0m\u001b[0m\n\u001b[1;32m   2997\u001b[0m                 \u001b[0mindexer\u001b[0m \u001b[0;34m=\u001b[0m \u001b[0;34m[\u001b[0m\u001b[0mindexer\u001b[0m\u001b[0;34m]\u001b[0m\u001b[0;34m\u001b[0m\u001b[0;34m\u001b[0m\u001b[0m\n",
            "\u001b[0;32m/usr/local/lib/python3.6/dist-packages/pandas/core/indexes/base.py\u001b[0m in \u001b[0;36mget_loc\u001b[0;34m(self, key, method, tolerance)\u001b[0m\n\u001b[1;32m   2897\u001b[0m                 \u001b[0;32mreturn\u001b[0m \u001b[0mself\u001b[0m\u001b[0;34m.\u001b[0m\u001b[0m_engine\u001b[0m\u001b[0;34m.\u001b[0m\u001b[0mget_loc\u001b[0m\u001b[0;34m(\u001b[0m\u001b[0mkey\u001b[0m\u001b[0;34m)\u001b[0m\u001b[0;34m\u001b[0m\u001b[0;34m\u001b[0m\u001b[0m\n\u001b[1;32m   2898\u001b[0m             \u001b[0;32mexcept\u001b[0m \u001b[0mKeyError\u001b[0m\u001b[0;34m:\u001b[0m\u001b[0;34m\u001b[0m\u001b[0;34m\u001b[0m\u001b[0m\n\u001b[0;32m-> 2899\u001b[0;31m                 \u001b[0;32mreturn\u001b[0m \u001b[0mself\u001b[0m\u001b[0;34m.\u001b[0m\u001b[0m_engine\u001b[0m\u001b[0;34m.\u001b[0m\u001b[0mget_loc\u001b[0m\u001b[0;34m(\u001b[0m\u001b[0mself\u001b[0m\u001b[0;34m.\u001b[0m\u001b[0m_maybe_cast_indexer\u001b[0m\u001b[0;34m(\u001b[0m\u001b[0mkey\u001b[0m\u001b[0;34m)\u001b[0m\u001b[0;34m)\u001b[0m\u001b[0;34m\u001b[0m\u001b[0;34m\u001b[0m\u001b[0m\n\u001b[0m\u001b[1;32m   2900\u001b[0m         \u001b[0mindexer\u001b[0m \u001b[0;34m=\u001b[0m \u001b[0mself\u001b[0m\u001b[0;34m.\u001b[0m\u001b[0mget_indexer\u001b[0m\u001b[0;34m(\u001b[0m\u001b[0;34m[\u001b[0m\u001b[0mkey\u001b[0m\u001b[0;34m]\u001b[0m\u001b[0;34m,\u001b[0m \u001b[0mmethod\u001b[0m\u001b[0;34m=\u001b[0m\u001b[0mmethod\u001b[0m\u001b[0;34m,\u001b[0m \u001b[0mtolerance\u001b[0m\u001b[0;34m=\u001b[0m\u001b[0mtolerance\u001b[0m\u001b[0;34m)\u001b[0m\u001b[0;34m\u001b[0m\u001b[0;34m\u001b[0m\u001b[0m\n\u001b[1;32m   2901\u001b[0m         \u001b[0;32mif\u001b[0m \u001b[0mindexer\u001b[0m\u001b[0;34m.\u001b[0m\u001b[0mndim\u001b[0m \u001b[0;34m>\u001b[0m \u001b[0;36m1\u001b[0m \u001b[0;32mor\u001b[0m \u001b[0mindexer\u001b[0m\u001b[0;34m.\u001b[0m\u001b[0msize\u001b[0m \u001b[0;34m>\u001b[0m \u001b[0;36m1\u001b[0m\u001b[0;34m:\u001b[0m\u001b[0;34m\u001b[0m\u001b[0;34m\u001b[0m\u001b[0m\n",
            "\u001b[0;32mpandas/_libs/index.pyx\u001b[0m in \u001b[0;36mpandas._libs.index.IndexEngine.get_loc\u001b[0;34m()\u001b[0m\n",
            "\u001b[0;32mpandas/_libs/index.pyx\u001b[0m in \u001b[0;36mpandas._libs.index.IndexEngine.get_loc\u001b[0;34m()\u001b[0m\n",
            "\u001b[0;32mpandas/_libs/hashtable_class_helper.pxi\u001b[0m in \u001b[0;36mpandas._libs.hashtable.PyObjectHashTable.get_item\u001b[0;34m()\u001b[0m\n",
            "\u001b[0;32mpandas/_libs/hashtable_class_helper.pxi\u001b[0m in \u001b[0;36mpandas._libs.hashtable.PyObjectHashTable.get_item\u001b[0;34m()\u001b[0m\n",
            "\u001b[0;31mKeyError\u001b[0m: 0"
          ]
        }
      ]
    },
    {
      "cell_type": "code",
      "metadata": {
        "id": "qdP8SIkE_YNh",
        "colab_type": "code",
        "outputId": "b3e12195-d278-407a-eb8b-31a2991f52eb",
        "colab": {
          "base_uri": "https://localhost:8080/",
          "height": 1000
        }
      },
      "source": [
        "model.eval()\n",
        "\n",
        "state_dim = (NUM_LAYERS * DIRECTIONS, BATCH_SIZE, HIDDEN_SIZE)\n",
        "validation_states = (torch.zeros(state_dim).to(device), torch.zeros(state_dim).to(device))\n",
        "running_validation_loss = 0.0\n",
        "\n",
        "predictions = []\n",
        "with torch.no_grad():\n",
        "    for idx, (x_batch, y_batch) in enumerate(tqdm(validation_dl)):\n",
        "\n",
        "        # Convert to Tensors\n",
        "        x_batch = x_batch.float().to(device)\n",
        "        y_batch = y_batch.float().to(device)\n",
        "      \n",
        "        validation_states = [state.detach() for state in validation_states]\n",
        "        \n",
        "        output, validation_states = model(x_batch, validation_states)\n",
        "        import pdb; pdb.set_trace()\n",
        "        predictions.append(output[:, -1, :])"
      ],
      "execution_count": 0,
      "outputs": [
        {
          "output_type": "stream",
          "text": [
            "\r  0%|          | 0/436 [00:00<?, ?it/s]"
          ],
          "name": "stderr"
        },
        {
          "output_type": "stream",
          "text": [
            "> <ipython-input-34-d802e7a2c1a9>(19)<module>()\n",
            "-> predictions.append(output[:, -1, :])\n",
            "(Pdb) output\n",
            "tensor([[[0.0241],\n",
            "         [0.0118],\n",
            "         [0.0052],\n",
            "         [0.0018],\n",
            "         [0.0011],\n",
            "         [0.0009],\n",
            "         [0.0014],\n",
            "         [0.0029],\n",
            "         [0.0034],\n",
            "         [0.0047],\n",
            "         [0.0054],\n",
            "         [0.0050],\n",
            "         [0.0044],\n",
            "         [0.0041],\n",
            "         [0.0043],\n",
            "         [0.0040],\n",
            "         [0.0038],\n",
            "         [0.0037],\n",
            "         [0.0040],\n",
            "         [0.0039],\n",
            "         [0.0040],\n",
            "         [0.0046],\n",
            "         [0.0049],\n",
            "         [0.0047],\n",
            "         [0.0045],\n",
            "         [0.0041],\n",
            "         [0.0038],\n",
            "         [0.0038],\n",
            "         [0.0036],\n",
            "         [0.0036],\n",
            "         [0.0036],\n",
            "         [0.0035],\n",
            "         [0.0037],\n",
            "         [0.0036],\n",
            "         [0.0035],\n",
            "         [0.0036],\n",
            "         [0.0039],\n",
            "         [0.0038],\n",
            "         [0.0037],\n",
            "         [0.0036],\n",
            "         [0.0035],\n",
            "         [0.0037],\n",
            "         [0.0036],\n",
            "         [0.0036],\n",
            "         [0.0035],\n",
            "         [0.0039],\n",
            "         [0.0040],\n",
            "         [0.0038],\n",
            "         [0.0039],\n",
            "         [0.0037],\n",
            "         [0.0039],\n",
            "         [0.0038],\n",
            "         [0.0039],\n",
            "         [0.0038],\n",
            "         [0.0042],\n",
            "         [0.0040],\n",
            "         [0.0039],\n",
            "         [0.0040],\n",
            "         [0.0039],\n",
            "         [0.0038],\n",
            "         [0.0040],\n",
            "         [0.0043],\n",
            "         [0.0070],\n",
            "         [0.0065],\n",
            "         [0.0056],\n",
            "         [0.0048],\n",
            "         [0.0043],\n",
            "         [0.0040],\n",
            "         [0.0039],\n",
            "         [0.0038],\n",
            "         [0.0038],\n",
            "         [0.0037],\n",
            "         [0.0054],\n",
            "         [0.0101],\n",
            "         [0.0093],\n",
            "         [0.0075],\n",
            "         [0.0088],\n",
            "         [0.0082],\n",
            "         [0.0067],\n",
            "         [0.0055],\n",
            "         [0.0054],\n",
            "         [0.0048],\n",
            "         [0.0044],\n",
            "         [0.0043],\n",
            "         [0.0041],\n",
            "         [0.0041],\n",
            "         [0.0040],\n",
            "         [0.0038],\n",
            "         [0.0043],\n",
            "         [0.0040]],\n",
            "\n",
            "        [[0.0248],\n",
            "         [0.0116],\n",
            "         [0.0044],\n",
            "         [0.0017],\n",
            "         [0.0007],\n",
            "         [0.0008],\n",
            "         [0.0023],\n",
            "         [0.0029],\n",
            "         [0.0042],\n",
            "         [0.0051],\n",
            "         [0.0048],\n",
            "         [0.0043],\n",
            "         [0.0040],\n",
            "         [0.0042],\n",
            "         [0.0040],\n",
            "         [0.0037],\n",
            "         [0.0037],\n",
            "         [0.0040],\n",
            "         [0.0039],\n",
            "         [0.0040],\n",
            "         [0.0046],\n",
            "         [0.0049],\n",
            "         [0.0047],\n",
            "         [0.0045],\n",
            "         [0.0041],\n",
            "         [0.0038],\n",
            "         [0.0038],\n",
            "         [0.0036],\n",
            "         [0.0036],\n",
            "         [0.0036],\n",
            "         [0.0035],\n",
            "         [0.0037],\n",
            "         [0.0036],\n",
            "         [0.0035],\n",
            "         [0.0036],\n",
            "         [0.0039],\n",
            "         [0.0038],\n",
            "         [0.0037],\n",
            "         [0.0036],\n",
            "         [0.0035],\n",
            "         [0.0037],\n",
            "         [0.0036],\n",
            "         [0.0036],\n",
            "         [0.0035],\n",
            "         [0.0039],\n",
            "         [0.0040],\n",
            "         [0.0038],\n",
            "         [0.0039],\n",
            "         [0.0037],\n",
            "         [0.0039],\n",
            "         [0.0038],\n",
            "         [0.0039],\n",
            "         [0.0038],\n",
            "         [0.0042],\n",
            "         [0.0040],\n",
            "         [0.0039],\n",
            "         [0.0040],\n",
            "         [0.0039],\n",
            "         [0.0038],\n",
            "         [0.0040],\n",
            "         [0.0043],\n",
            "         [0.0070],\n",
            "         [0.0065],\n",
            "         [0.0056],\n",
            "         [0.0048],\n",
            "         [0.0043],\n",
            "         [0.0040],\n",
            "         [0.0039],\n",
            "         [0.0038],\n",
            "         [0.0038],\n",
            "         [0.0037],\n",
            "         [0.0054],\n",
            "         [0.0101],\n",
            "         [0.0093],\n",
            "         [0.0075],\n",
            "         [0.0088],\n",
            "         [0.0082],\n",
            "         [0.0067],\n",
            "         [0.0055],\n",
            "         [0.0054],\n",
            "         [0.0048],\n",
            "         [0.0044],\n",
            "         [0.0043],\n",
            "         [0.0041],\n",
            "         [0.0041],\n",
            "         [0.0040],\n",
            "         [0.0038],\n",
            "         [0.0043],\n",
            "         [0.0040],\n",
            "         [0.0038]],\n",
            "\n",
            "        [[0.0241],\n",
            "         [0.0106],\n",
            "         [0.0042],\n",
            "         [0.0013],\n",
            "         [0.0006],\n",
            "         [0.0018],\n",
            "         [0.0023],\n",
            "         [0.0037],\n",
            "         [0.0047],\n",
            "         [0.0044],\n",
            "         [0.0040],\n",
            "         [0.0038],\n",
            "         [0.0041],\n",
            "         [0.0039],\n",
            "         [0.0037],\n",
            "         [0.0036],\n",
            "         [0.0040],\n",
            "         [0.0039],\n",
            "         [0.0040],\n",
            "         [0.0045],\n",
            "         [0.0049],\n",
            "         [0.0047],\n",
            "         [0.0045],\n",
            "         [0.0041],\n",
            "         [0.0038],\n",
            "         [0.0038],\n",
            "         [0.0036],\n",
            "         [0.0036],\n",
            "         [0.0036],\n",
            "         [0.0035],\n",
            "         [0.0037],\n",
            "         [0.0036],\n",
            "         [0.0035],\n",
            "         [0.0036],\n",
            "         [0.0039],\n",
            "         [0.0038],\n",
            "         [0.0037],\n",
            "         [0.0036],\n",
            "         [0.0035],\n",
            "         [0.0037],\n",
            "         [0.0036],\n",
            "         [0.0036],\n",
            "         [0.0035],\n",
            "         [0.0039],\n",
            "         [0.0040],\n",
            "         [0.0038],\n",
            "         [0.0039],\n",
            "         [0.0037],\n",
            "         [0.0039],\n",
            "         [0.0038],\n",
            "         [0.0039],\n",
            "         [0.0038],\n",
            "         [0.0042],\n",
            "         [0.0040],\n",
            "         [0.0039],\n",
            "         [0.0040],\n",
            "         [0.0039],\n",
            "         [0.0038],\n",
            "         [0.0040],\n",
            "         [0.0043],\n",
            "         [0.0070],\n",
            "         [0.0065],\n",
            "         [0.0056],\n",
            "         [0.0048],\n",
            "         [0.0043],\n",
            "         [0.0040],\n",
            "         [0.0039],\n",
            "         [0.0038],\n",
            "         [0.0038],\n",
            "         [0.0037],\n",
            "         [0.0054],\n",
            "         [0.0101],\n",
            "         [0.0093],\n",
            "         [0.0075],\n",
            "         [0.0088],\n",
            "         [0.0082],\n",
            "         [0.0067],\n",
            "         [0.0055],\n",
            "         [0.0054],\n",
            "         [0.0048],\n",
            "         [0.0044],\n",
            "         [0.0043],\n",
            "         [0.0041],\n",
            "         [0.0041],\n",
            "         [0.0040],\n",
            "         [0.0038],\n",
            "         [0.0043],\n",
            "         [0.0040],\n",
            "         [0.0038],\n",
            "         [0.0039]],\n",
            "\n",
            "        [[0.0237],\n",
            "         [0.0109],\n",
            "         [0.0041],\n",
            "         [0.0014],\n",
            "         [0.0016],\n",
            "         [0.0018],\n",
            "         [0.0031],\n",
            "         [0.0041],\n",
            "         [0.0040],\n",
            "         [0.0037],\n",
            "         [0.0036],\n",
            "         [0.0039],\n",
            "         [0.0037],\n",
            "         [0.0036],\n",
            "         [0.0036],\n",
            "         [0.0039],\n",
            "         [0.0038],\n",
            "         [0.0039],\n",
            "         [0.0045],\n",
            "         [0.0049],\n",
            "         [0.0047],\n",
            "         [0.0045],\n",
            "         [0.0041],\n",
            "         [0.0038],\n",
            "         [0.0038],\n",
            "         [0.0036],\n",
            "         [0.0036],\n",
            "         [0.0036],\n",
            "         [0.0035],\n",
            "         [0.0037],\n",
            "         [0.0036],\n",
            "         [0.0035],\n",
            "         [0.0036],\n",
            "         [0.0039],\n",
            "         [0.0038],\n",
            "         [0.0037],\n",
            "         [0.0036],\n",
            "         [0.0035],\n",
            "         [0.0037],\n",
            "         [0.0036],\n",
            "         [0.0036],\n",
            "         [0.0035],\n",
            "         [0.0039],\n",
            "         [0.0040],\n",
            "         [0.0038],\n",
            "         [0.0039],\n",
            "         [0.0037],\n",
            "         [0.0039],\n",
            "         [0.0038],\n",
            "         [0.0039],\n",
            "         [0.0038],\n",
            "         [0.0042],\n",
            "         [0.0040],\n",
            "         [0.0039],\n",
            "         [0.0040],\n",
            "         [0.0039],\n",
            "         [0.0038],\n",
            "         [0.0040],\n",
            "         [0.0043],\n",
            "         [0.0070],\n",
            "         [0.0065],\n",
            "         [0.0056],\n",
            "         [0.0048],\n",
            "         [0.0043],\n",
            "         [0.0040],\n",
            "         [0.0039],\n",
            "         [0.0038],\n",
            "         [0.0038],\n",
            "         [0.0037],\n",
            "         [0.0054],\n",
            "         [0.0101],\n",
            "         [0.0093],\n",
            "         [0.0075],\n",
            "         [0.0088],\n",
            "         [0.0082],\n",
            "         [0.0067],\n",
            "         [0.0055],\n",
            "         [0.0054],\n",
            "         [0.0048],\n",
            "         [0.0044],\n",
            "         [0.0043],\n",
            "         [0.0041],\n",
            "         [0.0041],\n",
            "         [0.0040],\n",
            "         [0.0038],\n",
            "         [0.0043],\n",
            "         [0.0040],\n",
            "         [0.0038],\n",
            "         [0.0039],\n",
            "         [0.0035]],\n",
            "\n",
            "        [[0.0243],\n",
            "         [0.0109],\n",
            "         [0.0042],\n",
            "         [0.0024],\n",
            "         [0.0016],\n",
            "         [0.0026],\n",
            "         [0.0035],\n",
            "         [0.0035],\n",
            "         [0.0033],\n",
            "         [0.0032],\n",
            "         [0.0036],\n",
            "         [0.0036],\n",
            "         [0.0034],\n",
            "         [0.0035],\n",
            "         [0.0038],\n",
            "         [0.0038],\n",
            "         [0.0039],\n",
            "         [0.0045],\n",
            "         [0.0049],\n",
            "         [0.0047],\n",
            "         [0.0045],\n",
            "         [0.0041],\n",
            "         [0.0038],\n",
            "         [0.0038],\n",
            "         [0.0036],\n",
            "         [0.0036],\n",
            "         [0.0036],\n",
            "         [0.0035],\n",
            "         [0.0037],\n",
            "         [0.0036],\n",
            "         [0.0035],\n",
            "         [0.0036],\n",
            "         [0.0039],\n",
            "         [0.0038],\n",
            "         [0.0037],\n",
            "         [0.0036],\n",
            "         [0.0035],\n",
            "         [0.0037],\n",
            "         [0.0036],\n",
            "         [0.0036],\n",
            "         [0.0035],\n",
            "         [0.0039],\n",
            "         [0.0040],\n",
            "         [0.0038],\n",
            "         [0.0039],\n",
            "         [0.0037],\n",
            "         [0.0039],\n",
            "         [0.0038],\n",
            "         [0.0039],\n",
            "         [0.0038],\n",
            "         [0.0042],\n",
            "         [0.0040],\n",
            "         [0.0039],\n",
            "         [0.0040],\n",
            "         [0.0039],\n",
            "         [0.0038],\n",
            "         [0.0040],\n",
            "         [0.0043],\n",
            "         [0.0070],\n",
            "         [0.0065],\n",
            "         [0.0056],\n",
            "         [0.0048],\n",
            "         [0.0043],\n",
            "         [0.0040],\n",
            "         [0.0039],\n",
            "         [0.0038],\n",
            "         [0.0038],\n",
            "         [0.0037],\n",
            "         [0.0054],\n",
            "         [0.0101],\n",
            "         [0.0093],\n",
            "         [0.0075],\n",
            "         [0.0088],\n",
            "         [0.0082],\n",
            "         [0.0067],\n",
            "         [0.0055],\n",
            "         [0.0054],\n",
            "         [0.0048],\n",
            "         [0.0044],\n",
            "         [0.0043],\n",
            "         [0.0041],\n",
            "         [0.0041],\n",
            "         [0.0040],\n",
            "         [0.0038],\n",
            "         [0.0043],\n",
            "         [0.0040],\n",
            "         [0.0038],\n",
            "         [0.0039],\n",
            "         [0.0035],\n",
            "         [0.0031]]], device='cuda:0')\n",
            "(Pdb) output[:, -1, :]\n",
            "tensor([[0.0040],\n",
            "        [0.0038],\n",
            "        [0.0039],\n",
            "        [0.0035],\n",
            "        [0.0031]], device='cuda:0')\n",
            "--KeyboardInterrupt--\n",
            "--KeyboardInterrupt--\n",
            "(Pdb) exit\n"
          ],
          "name": "stdout"
        },
        {
          "output_type": "error",
          "ename": "BdbQuit",
          "evalue": "ignored",
          "traceback": [
            "\u001b[0;31m---------------------------------------------------------------------------\u001b[0m",
            "\u001b[0;31mBdbQuit\u001b[0m                                   Traceback (most recent call last)",
            "\u001b[0;32m<ipython-input-34-d802e7a2c1a9>\u001b[0m in \u001b[0;36m<module>\u001b[0;34m()\u001b[0m\n\u001b[1;32m     17\u001b[0m         \u001b[0moutput\u001b[0m\u001b[0;34m,\u001b[0m \u001b[0mvalidation_states\u001b[0m \u001b[0;34m=\u001b[0m \u001b[0mmodel\u001b[0m\u001b[0;34m(\u001b[0m\u001b[0mx_batch\u001b[0m\u001b[0;34m,\u001b[0m \u001b[0mvalidation_states\u001b[0m\u001b[0;34m)\u001b[0m\u001b[0;34m\u001b[0m\u001b[0;34m\u001b[0m\u001b[0m\n\u001b[1;32m     18\u001b[0m         \u001b[0;32mimport\u001b[0m \u001b[0mpdb\u001b[0m\u001b[0;34m;\u001b[0m \u001b[0mpdb\u001b[0m\u001b[0;34m.\u001b[0m\u001b[0mset_trace\u001b[0m\u001b[0;34m(\u001b[0m\u001b[0;34m)\u001b[0m\u001b[0;34m\u001b[0m\u001b[0;34m\u001b[0m\u001b[0m\n\u001b[0;32m---> 19\u001b[0;31m         \u001b[0mpredictions\u001b[0m\u001b[0;34m.\u001b[0m\u001b[0mappend\u001b[0m\u001b[0;34m(\u001b[0m\u001b[0moutput\u001b[0m\u001b[0;34m[\u001b[0m\u001b[0;34m:\u001b[0m\u001b[0;34m,\u001b[0m \u001b[0;34m-\u001b[0m\u001b[0;36m1\u001b[0m\u001b[0;34m,\u001b[0m \u001b[0;34m:\u001b[0m\u001b[0;34m]\u001b[0m\u001b[0;34m)\u001b[0m\u001b[0;34m\u001b[0m\u001b[0;34m\u001b[0m\u001b[0m\n\u001b[0m",
            "\u001b[0;32m<ipython-input-34-d802e7a2c1a9>\u001b[0m in \u001b[0;36m<module>\u001b[0;34m()\u001b[0m\n\u001b[1;32m     17\u001b[0m         \u001b[0moutput\u001b[0m\u001b[0;34m,\u001b[0m \u001b[0mvalidation_states\u001b[0m \u001b[0;34m=\u001b[0m \u001b[0mmodel\u001b[0m\u001b[0;34m(\u001b[0m\u001b[0mx_batch\u001b[0m\u001b[0;34m,\u001b[0m \u001b[0mvalidation_states\u001b[0m\u001b[0;34m)\u001b[0m\u001b[0;34m\u001b[0m\u001b[0;34m\u001b[0m\u001b[0m\n\u001b[1;32m     18\u001b[0m         \u001b[0;32mimport\u001b[0m \u001b[0mpdb\u001b[0m\u001b[0;34m;\u001b[0m \u001b[0mpdb\u001b[0m\u001b[0;34m.\u001b[0m\u001b[0mset_trace\u001b[0m\u001b[0;34m(\u001b[0m\u001b[0;34m)\u001b[0m\u001b[0;34m\u001b[0m\u001b[0;34m\u001b[0m\u001b[0m\n\u001b[0;32m---> 19\u001b[0;31m         \u001b[0mpredictions\u001b[0m\u001b[0;34m.\u001b[0m\u001b[0mappend\u001b[0m\u001b[0;34m(\u001b[0m\u001b[0moutput\u001b[0m\u001b[0;34m[\u001b[0m\u001b[0;34m:\u001b[0m\u001b[0;34m,\u001b[0m \u001b[0;34m-\u001b[0m\u001b[0;36m1\u001b[0m\u001b[0;34m,\u001b[0m \u001b[0;34m:\u001b[0m\u001b[0;34m]\u001b[0m\u001b[0;34m)\u001b[0m\u001b[0;34m\u001b[0m\u001b[0;34m\u001b[0m\u001b[0m\n\u001b[0m",
            "\u001b[0;32m/usr/lib/python3.6/bdb.py\u001b[0m in \u001b[0;36mtrace_dispatch\u001b[0;34m(self, frame, event, arg)\u001b[0m\n\u001b[1;32m     49\u001b[0m             \u001b[0;32mreturn\u001b[0m \u001b[0;31m# None\u001b[0m\u001b[0;34m\u001b[0m\u001b[0;34m\u001b[0m\u001b[0m\n\u001b[1;32m     50\u001b[0m         \u001b[0;32mif\u001b[0m \u001b[0mevent\u001b[0m \u001b[0;34m==\u001b[0m \u001b[0;34m'line'\u001b[0m\u001b[0;34m:\u001b[0m\u001b[0;34m\u001b[0m\u001b[0;34m\u001b[0m\u001b[0m\n\u001b[0;32m---> 51\u001b[0;31m             \u001b[0;32mreturn\u001b[0m \u001b[0mself\u001b[0m\u001b[0;34m.\u001b[0m\u001b[0mdispatch_line\u001b[0m\u001b[0;34m(\u001b[0m\u001b[0mframe\u001b[0m\u001b[0;34m)\u001b[0m\u001b[0;34m\u001b[0m\u001b[0;34m\u001b[0m\u001b[0m\n\u001b[0m\u001b[1;32m     52\u001b[0m         \u001b[0;32mif\u001b[0m \u001b[0mevent\u001b[0m \u001b[0;34m==\u001b[0m \u001b[0;34m'call'\u001b[0m\u001b[0;34m:\u001b[0m\u001b[0;34m\u001b[0m\u001b[0;34m\u001b[0m\u001b[0m\n\u001b[1;32m     53\u001b[0m             \u001b[0;32mreturn\u001b[0m \u001b[0mself\u001b[0m\u001b[0;34m.\u001b[0m\u001b[0mdispatch_call\u001b[0m\u001b[0;34m(\u001b[0m\u001b[0mframe\u001b[0m\u001b[0;34m,\u001b[0m \u001b[0marg\u001b[0m\u001b[0;34m)\u001b[0m\u001b[0;34m\u001b[0m\u001b[0;34m\u001b[0m\u001b[0m\n",
            "\u001b[0;32m/usr/lib/python3.6/bdb.py\u001b[0m in \u001b[0;36mdispatch_line\u001b[0;34m(self, frame)\u001b[0m\n\u001b[1;32m     68\u001b[0m         \u001b[0;32mif\u001b[0m \u001b[0mself\u001b[0m\u001b[0;34m.\u001b[0m\u001b[0mstop_here\u001b[0m\u001b[0;34m(\u001b[0m\u001b[0mframe\u001b[0m\u001b[0;34m)\u001b[0m \u001b[0;32mor\u001b[0m \u001b[0mself\u001b[0m\u001b[0;34m.\u001b[0m\u001b[0mbreak_here\u001b[0m\u001b[0;34m(\u001b[0m\u001b[0mframe\u001b[0m\u001b[0;34m)\u001b[0m\u001b[0;34m:\u001b[0m\u001b[0;34m\u001b[0m\u001b[0;34m\u001b[0m\u001b[0m\n\u001b[1;32m     69\u001b[0m             \u001b[0mself\u001b[0m\u001b[0;34m.\u001b[0m\u001b[0muser_line\u001b[0m\u001b[0;34m(\u001b[0m\u001b[0mframe\u001b[0m\u001b[0;34m)\u001b[0m\u001b[0;34m\u001b[0m\u001b[0;34m\u001b[0m\u001b[0m\n\u001b[0;32m---> 70\u001b[0;31m             \u001b[0;32mif\u001b[0m \u001b[0mself\u001b[0m\u001b[0;34m.\u001b[0m\u001b[0mquitting\u001b[0m\u001b[0;34m:\u001b[0m \u001b[0;32mraise\u001b[0m \u001b[0mBdbQuit\u001b[0m\u001b[0;34m\u001b[0m\u001b[0;34m\u001b[0m\u001b[0m\n\u001b[0m\u001b[1;32m     71\u001b[0m         \u001b[0;32mreturn\u001b[0m \u001b[0mself\u001b[0m\u001b[0;34m.\u001b[0m\u001b[0mtrace_dispatch\u001b[0m\u001b[0;34m\u001b[0m\u001b[0;34m\u001b[0m\u001b[0m\n\u001b[1;32m     72\u001b[0m \u001b[0;34m\u001b[0m\u001b[0m\n",
            "\u001b[0;31mBdbQuit\u001b[0m: "
          ]
        }
      ]
    },
    {
      "cell_type": "code",
      "metadata": {
        "id": "LUWnf5ZtuIGP",
        "colab_type": "code",
        "outputId": "d29ccf2c-3ef0-4a84-dadc-d040f5ddd353",
        "colab": {
          "base_uri": "https://localhost:8080/",
          "height": 627
        }
      },
      "source": [
        "preds_epoch_count = range(1, len(predictions) + 1)\n",
        "plt.plot(preds_epoch_count, predictions, 'b-')\n",
        "plt.legend(['Predictions'])\n",
        "plt.xlabel('Epoch')\n",
        "plt.ylabel('Predictions')\n",
        "plt.show()"
      ],
      "execution_count": 0,
      "outputs": [
        {
          "output_type": "error",
          "ename": "ValueError",
          "evalue": "ignored",
          "traceback": [
            "\u001b[0;31m---------------------------------------------------------------------------\u001b[0m",
            "\u001b[0;31mValueError\u001b[0m                                Traceback (most recent call last)",
            "\u001b[0;32m<ipython-input-33-42cf1bfa24b8>\u001b[0m in \u001b[0;36m<module>\u001b[0;34m()\u001b[0m\n\u001b[1;32m      1\u001b[0m \u001b[0mpreds_epoch_count\u001b[0m \u001b[0;34m=\u001b[0m \u001b[0mrange\u001b[0m\u001b[0;34m(\u001b[0m\u001b[0;36m1\u001b[0m\u001b[0;34m,\u001b[0m \u001b[0mlen\u001b[0m\u001b[0;34m(\u001b[0m\u001b[0mpredictions\u001b[0m\u001b[0;34m)\u001b[0m \u001b[0;34m+\u001b[0m \u001b[0;36m1\u001b[0m\u001b[0;34m)\u001b[0m\u001b[0;34m\u001b[0m\u001b[0;34m\u001b[0m\u001b[0m\n\u001b[0;32m----> 2\u001b[0;31m \u001b[0mplt\u001b[0m\u001b[0;34m.\u001b[0m\u001b[0mplot\u001b[0m\u001b[0;34m(\u001b[0m\u001b[0mpreds_epoch_count\u001b[0m\u001b[0;34m,\u001b[0m \u001b[0mpredictions\u001b[0m\u001b[0;34m,\u001b[0m \u001b[0;34m'b-'\u001b[0m\u001b[0;34m)\u001b[0m\u001b[0;34m\u001b[0m\u001b[0;34m\u001b[0m\u001b[0m\n\u001b[0m\u001b[1;32m      3\u001b[0m \u001b[0mplt\u001b[0m\u001b[0;34m.\u001b[0m\u001b[0mlegend\u001b[0m\u001b[0;34m(\u001b[0m\u001b[0;34m[\u001b[0m\u001b[0;34m'Predictions'\u001b[0m\u001b[0;34m]\u001b[0m\u001b[0;34m)\u001b[0m\u001b[0;34m\u001b[0m\u001b[0;34m\u001b[0m\u001b[0m\n\u001b[1;32m      4\u001b[0m \u001b[0mplt\u001b[0m\u001b[0;34m.\u001b[0m\u001b[0mxlabel\u001b[0m\u001b[0;34m(\u001b[0m\u001b[0;34m'Epoch'\u001b[0m\u001b[0;34m)\u001b[0m\u001b[0;34m\u001b[0m\u001b[0;34m\u001b[0m\u001b[0m\n\u001b[1;32m      5\u001b[0m \u001b[0mplt\u001b[0m\u001b[0;34m.\u001b[0m\u001b[0mylabel\u001b[0m\u001b[0;34m(\u001b[0m\u001b[0;34m'Predictions'\u001b[0m\u001b[0;34m)\u001b[0m\u001b[0;34m\u001b[0m\u001b[0;34m\u001b[0m\u001b[0m\n",
            "\u001b[0;32m/usr/local/lib/python3.6/dist-packages/matplotlib/pyplot.py\u001b[0m in \u001b[0;36mplot\u001b[0;34m(scalex, scaley, data, *args, **kwargs)\u001b[0m\n\u001b[1;32m   2787\u001b[0m     return gca().plot(\n\u001b[1;32m   2788\u001b[0m         *args, scalex=scalex, scaley=scaley, **({\"data\": data} if data\n\u001b[0;32m-> 2789\u001b[0;31m         is not None else {}), **kwargs)\n\u001b[0m\u001b[1;32m   2790\u001b[0m \u001b[0;34m\u001b[0m\u001b[0m\n\u001b[1;32m   2791\u001b[0m \u001b[0;34m\u001b[0m\u001b[0m\n",
            "\u001b[0;32m/usr/local/lib/python3.6/dist-packages/matplotlib/axes/_axes.py\u001b[0m in \u001b[0;36mplot\u001b[0;34m(self, scalex, scaley, data, *args, **kwargs)\u001b[0m\n\u001b[1;32m   1665\u001b[0m         \u001b[0mlines\u001b[0m \u001b[0;34m=\u001b[0m \u001b[0;34m[\u001b[0m\u001b[0;34m*\u001b[0m\u001b[0mself\u001b[0m\u001b[0;34m.\u001b[0m\u001b[0m_get_lines\u001b[0m\u001b[0;34m(\u001b[0m\u001b[0;34m*\u001b[0m\u001b[0margs\u001b[0m\u001b[0;34m,\u001b[0m \u001b[0mdata\u001b[0m\u001b[0;34m=\u001b[0m\u001b[0mdata\u001b[0m\u001b[0;34m,\u001b[0m \u001b[0;34m**\u001b[0m\u001b[0mkwargs\u001b[0m\u001b[0;34m)\u001b[0m\u001b[0;34m]\u001b[0m\u001b[0;34m\u001b[0m\u001b[0;34m\u001b[0m\u001b[0m\n\u001b[1;32m   1666\u001b[0m         \u001b[0;32mfor\u001b[0m \u001b[0mline\u001b[0m \u001b[0;32min\u001b[0m \u001b[0mlines\u001b[0m\u001b[0;34m:\u001b[0m\u001b[0;34m\u001b[0m\u001b[0;34m\u001b[0m\u001b[0m\n\u001b[0;32m-> 1667\u001b[0;31m             \u001b[0mself\u001b[0m\u001b[0;34m.\u001b[0m\u001b[0madd_line\u001b[0m\u001b[0;34m(\u001b[0m\u001b[0mline\u001b[0m\u001b[0;34m)\u001b[0m\u001b[0;34m\u001b[0m\u001b[0;34m\u001b[0m\u001b[0m\n\u001b[0m\u001b[1;32m   1668\u001b[0m         \u001b[0mself\u001b[0m\u001b[0;34m.\u001b[0m\u001b[0mautoscale_view\u001b[0m\u001b[0;34m(\u001b[0m\u001b[0mscalex\u001b[0m\u001b[0;34m=\u001b[0m\u001b[0mscalex\u001b[0m\u001b[0;34m,\u001b[0m \u001b[0mscaley\u001b[0m\u001b[0;34m=\u001b[0m\u001b[0mscaley\u001b[0m\u001b[0;34m)\u001b[0m\u001b[0;34m\u001b[0m\u001b[0;34m\u001b[0m\u001b[0m\n\u001b[1;32m   1669\u001b[0m         \u001b[0;32mreturn\u001b[0m \u001b[0mlines\u001b[0m\u001b[0;34m\u001b[0m\u001b[0;34m\u001b[0m\u001b[0m\n",
            "\u001b[0;32m/usr/local/lib/python3.6/dist-packages/matplotlib/axes/_base.py\u001b[0m in \u001b[0;36madd_line\u001b[0;34m(self, line)\u001b[0m\n\u001b[1;32m   1900\u001b[0m             \u001b[0mline\u001b[0m\u001b[0;34m.\u001b[0m\u001b[0mset_clip_path\u001b[0m\u001b[0;34m(\u001b[0m\u001b[0mself\u001b[0m\u001b[0;34m.\u001b[0m\u001b[0mpatch\u001b[0m\u001b[0;34m)\u001b[0m\u001b[0;34m\u001b[0m\u001b[0;34m\u001b[0m\u001b[0m\n\u001b[1;32m   1901\u001b[0m \u001b[0;34m\u001b[0m\u001b[0m\n\u001b[0;32m-> 1902\u001b[0;31m         \u001b[0mself\u001b[0m\u001b[0;34m.\u001b[0m\u001b[0m_update_line_limits\u001b[0m\u001b[0;34m(\u001b[0m\u001b[0mline\u001b[0m\u001b[0;34m)\u001b[0m\u001b[0;34m\u001b[0m\u001b[0;34m\u001b[0m\u001b[0m\n\u001b[0m\u001b[1;32m   1903\u001b[0m         \u001b[0;32mif\u001b[0m \u001b[0;32mnot\u001b[0m \u001b[0mline\u001b[0m\u001b[0;34m.\u001b[0m\u001b[0mget_label\u001b[0m\u001b[0;34m(\u001b[0m\u001b[0;34m)\u001b[0m\u001b[0;34m:\u001b[0m\u001b[0;34m\u001b[0m\u001b[0;34m\u001b[0m\u001b[0m\n\u001b[1;32m   1904\u001b[0m             \u001b[0mline\u001b[0m\u001b[0;34m.\u001b[0m\u001b[0mset_label\u001b[0m\u001b[0;34m(\u001b[0m\u001b[0;34m'_line%d'\u001b[0m \u001b[0;34m%\u001b[0m \u001b[0mlen\u001b[0m\u001b[0;34m(\u001b[0m\u001b[0mself\u001b[0m\u001b[0;34m.\u001b[0m\u001b[0mlines\u001b[0m\u001b[0;34m)\u001b[0m\u001b[0;34m)\u001b[0m\u001b[0;34m\u001b[0m\u001b[0;34m\u001b[0m\u001b[0m\n",
            "\u001b[0;32m/usr/local/lib/python3.6/dist-packages/matplotlib/axes/_base.py\u001b[0m in \u001b[0;36m_update_line_limits\u001b[0;34m(self, line)\u001b[0m\n\u001b[1;32m   1922\u001b[0m         \u001b[0mFigures\u001b[0m \u001b[0mout\u001b[0m \u001b[0mthe\u001b[0m \u001b[0mdata\u001b[0m \u001b[0mlimit\u001b[0m \u001b[0mof\u001b[0m \u001b[0mthe\u001b[0m \u001b[0mgiven\u001b[0m \u001b[0mline\u001b[0m\u001b[0;34m,\u001b[0m \u001b[0mupdating\u001b[0m \u001b[0mself\u001b[0m\u001b[0;34m.\u001b[0m\u001b[0mdataLim\u001b[0m\u001b[0;34m.\u001b[0m\u001b[0;34m\u001b[0m\u001b[0;34m\u001b[0m\u001b[0m\n\u001b[1;32m   1923\u001b[0m         \"\"\"\n\u001b[0;32m-> 1924\u001b[0;31m         \u001b[0mpath\u001b[0m \u001b[0;34m=\u001b[0m \u001b[0mline\u001b[0m\u001b[0;34m.\u001b[0m\u001b[0mget_path\u001b[0m\u001b[0;34m(\u001b[0m\u001b[0;34m)\u001b[0m\u001b[0;34m\u001b[0m\u001b[0;34m\u001b[0m\u001b[0m\n\u001b[0m\u001b[1;32m   1925\u001b[0m         \u001b[0;32mif\u001b[0m \u001b[0mpath\u001b[0m\u001b[0;34m.\u001b[0m\u001b[0mvertices\u001b[0m\u001b[0;34m.\u001b[0m\u001b[0msize\u001b[0m \u001b[0;34m==\u001b[0m \u001b[0;36m0\u001b[0m\u001b[0;34m:\u001b[0m\u001b[0;34m\u001b[0m\u001b[0;34m\u001b[0m\u001b[0m\n\u001b[1;32m   1926\u001b[0m             \u001b[0;32mreturn\u001b[0m\u001b[0;34m\u001b[0m\u001b[0;34m\u001b[0m\u001b[0m\n",
            "\u001b[0;32m/usr/local/lib/python3.6/dist-packages/matplotlib/lines.py\u001b[0m in \u001b[0;36mget_path\u001b[0;34m(self)\u001b[0m\n\u001b[1;32m   1025\u001b[0m         \"\"\"\n\u001b[1;32m   1026\u001b[0m         \u001b[0;32mif\u001b[0m \u001b[0mself\u001b[0m\u001b[0;34m.\u001b[0m\u001b[0m_invalidy\u001b[0m \u001b[0;32mor\u001b[0m \u001b[0mself\u001b[0m\u001b[0;34m.\u001b[0m\u001b[0m_invalidx\u001b[0m\u001b[0;34m:\u001b[0m\u001b[0;34m\u001b[0m\u001b[0;34m\u001b[0m\u001b[0m\n\u001b[0;32m-> 1027\u001b[0;31m             \u001b[0mself\u001b[0m\u001b[0;34m.\u001b[0m\u001b[0mrecache\u001b[0m\u001b[0;34m(\u001b[0m\u001b[0;34m)\u001b[0m\u001b[0;34m\u001b[0m\u001b[0;34m\u001b[0m\u001b[0m\n\u001b[0m\u001b[1;32m   1028\u001b[0m         \u001b[0;32mreturn\u001b[0m \u001b[0mself\u001b[0m\u001b[0;34m.\u001b[0m\u001b[0m_path\u001b[0m\u001b[0;34m\u001b[0m\u001b[0;34m\u001b[0m\u001b[0m\n\u001b[1;32m   1029\u001b[0m \u001b[0;34m\u001b[0m\u001b[0m\n",
            "\u001b[0;32m/usr/local/lib/python3.6/dist-packages/matplotlib/lines.py\u001b[0m in \u001b[0;36mrecache\u001b[0;34m(self, always)\u001b[0m\n\u001b[1;32m    673\u001b[0m         \u001b[0;32mif\u001b[0m \u001b[0malways\u001b[0m \u001b[0;32mor\u001b[0m \u001b[0mself\u001b[0m\u001b[0;34m.\u001b[0m\u001b[0m_invalidy\u001b[0m\u001b[0;34m:\u001b[0m\u001b[0;34m\u001b[0m\u001b[0;34m\u001b[0m\u001b[0m\n\u001b[1;32m    674\u001b[0m             \u001b[0myconv\u001b[0m \u001b[0;34m=\u001b[0m \u001b[0mself\u001b[0m\u001b[0;34m.\u001b[0m\u001b[0mconvert_yunits\u001b[0m\u001b[0;34m(\u001b[0m\u001b[0mself\u001b[0m\u001b[0;34m.\u001b[0m\u001b[0m_yorig\u001b[0m\u001b[0;34m)\u001b[0m\u001b[0;34m\u001b[0m\u001b[0;34m\u001b[0m\u001b[0m\n\u001b[0;32m--> 675\u001b[0;31m             \u001b[0my\u001b[0m \u001b[0;34m=\u001b[0m \u001b[0m_to_unmasked_float_array\u001b[0m\u001b[0;34m(\u001b[0m\u001b[0myconv\u001b[0m\u001b[0;34m)\u001b[0m\u001b[0;34m.\u001b[0m\u001b[0mravel\u001b[0m\u001b[0;34m(\u001b[0m\u001b[0;34m)\u001b[0m\u001b[0;34m\u001b[0m\u001b[0;34m\u001b[0m\u001b[0m\n\u001b[0m\u001b[1;32m    676\u001b[0m         \u001b[0;32melse\u001b[0m\u001b[0;34m:\u001b[0m\u001b[0;34m\u001b[0m\u001b[0;34m\u001b[0m\u001b[0m\n\u001b[1;32m    677\u001b[0m             \u001b[0my\u001b[0m \u001b[0;34m=\u001b[0m \u001b[0mself\u001b[0m\u001b[0;34m.\u001b[0m\u001b[0m_y\u001b[0m\u001b[0;34m\u001b[0m\u001b[0;34m\u001b[0m\u001b[0m\n",
            "\u001b[0;32m/usr/local/lib/python3.6/dist-packages/matplotlib/cbook/__init__.py\u001b[0m in \u001b[0;36m_to_unmasked_float_array\u001b[0;34m(x)\u001b[0m\n\u001b[1;32m   1388\u001b[0m         \u001b[0;32mreturn\u001b[0m \u001b[0mnp\u001b[0m\u001b[0;34m.\u001b[0m\u001b[0mma\u001b[0m\u001b[0;34m.\u001b[0m\u001b[0masarray\u001b[0m\u001b[0;34m(\u001b[0m\u001b[0mx\u001b[0m\u001b[0;34m,\u001b[0m \u001b[0mfloat\u001b[0m\u001b[0;34m)\u001b[0m\u001b[0;34m.\u001b[0m\u001b[0mfilled\u001b[0m\u001b[0;34m(\u001b[0m\u001b[0mnp\u001b[0m\u001b[0;34m.\u001b[0m\u001b[0mnan\u001b[0m\u001b[0;34m)\u001b[0m\u001b[0;34m\u001b[0m\u001b[0;34m\u001b[0m\u001b[0m\n\u001b[1;32m   1389\u001b[0m     \u001b[0;32melse\u001b[0m\u001b[0;34m:\u001b[0m\u001b[0;34m\u001b[0m\u001b[0;34m\u001b[0m\u001b[0m\n\u001b[0;32m-> 1390\u001b[0;31m         \u001b[0;32mreturn\u001b[0m \u001b[0mnp\u001b[0m\u001b[0;34m.\u001b[0m\u001b[0masarray\u001b[0m\u001b[0;34m(\u001b[0m\u001b[0mx\u001b[0m\u001b[0;34m,\u001b[0m \u001b[0mfloat\u001b[0m\u001b[0;34m)\u001b[0m\u001b[0;34m\u001b[0m\u001b[0;34m\u001b[0m\u001b[0m\n\u001b[0m\u001b[1;32m   1391\u001b[0m \u001b[0;34m\u001b[0m\u001b[0m\n\u001b[1;32m   1392\u001b[0m \u001b[0;34m\u001b[0m\u001b[0m\n",
            "\u001b[0;32m/usr/local/lib/python3.6/dist-packages/numpy/core/_asarray.py\u001b[0m in \u001b[0;36masarray\u001b[0;34m(a, dtype, order)\u001b[0m\n\u001b[1;32m     83\u001b[0m \u001b[0;34m\u001b[0m\u001b[0m\n\u001b[1;32m     84\u001b[0m     \"\"\"\n\u001b[0;32m---> 85\u001b[0;31m     \u001b[0;32mreturn\u001b[0m \u001b[0marray\u001b[0m\u001b[0;34m(\u001b[0m\u001b[0ma\u001b[0m\u001b[0;34m,\u001b[0m \u001b[0mdtype\u001b[0m\u001b[0;34m,\u001b[0m \u001b[0mcopy\u001b[0m\u001b[0;34m=\u001b[0m\u001b[0;32mFalse\u001b[0m\u001b[0;34m,\u001b[0m \u001b[0morder\u001b[0m\u001b[0;34m=\u001b[0m\u001b[0morder\u001b[0m\u001b[0;34m)\u001b[0m\u001b[0;34m\u001b[0m\u001b[0;34m\u001b[0m\u001b[0m\n\u001b[0m\u001b[1;32m     86\u001b[0m \u001b[0;34m\u001b[0m\u001b[0m\n\u001b[1;32m     87\u001b[0m \u001b[0;34m\u001b[0m\u001b[0m\n",
            "\u001b[0;31mValueError\u001b[0m: only one element tensors can be converted to Python scalars"
          ]
        },
        {
          "output_type": "display_data",
          "data": {
            "image/png": "[encoded data removed]",
            "text/plain": [
              "<Figure size 432x288 with 1 Axes>"
            ]
          },
          "metadata": {
            "tags": []
          }
        }
      ]
    },
    {
      "cell_type": "code",
      "metadata": {
        "id": "PrZ2TvzguVsp",
        "colab_type": "code",
        "colab": {}
      },
      "source": [
        ""
      ],
      "execution_count": 0,
      "outputs": []
    }
  ]
}